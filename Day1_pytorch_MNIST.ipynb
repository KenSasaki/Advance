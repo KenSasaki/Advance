{
 "cells": [
  {
   "cell_type": "code",
   "execution_count": null,
   "metadata": {
    "colab": {},
    "colab_type": "code",
    "id": "NPJLLPpdlaMK"
   },
   "outputs": [],
   "source": [
    "%matplotlib inline\n",
    "\n",
    "import numpy as np\n",
    "import pandas as pd\n",
    "import torch\n",
    "from torch import nn\n",
    "from torch import optim\n",
    "import torch.nn.functional as F\n",
    "from torch.utils.data import DataLoader, TensorDataset\n",
    "from sklearn.model_selection import train_test_split\n",
    "from sklearn.metrics import confusion_matrix\n",
    "import matplotlib.pyplot as plt\n",
    "\n",
    "# digitsデータを使うためにimportする\n",
    "from torchvision.datasets import MNIST"
   ]
  },
  {
   "cell_type": "markdown",
   "metadata": {
    "colab_type": "text",
    "id": "NshOuXtbjiLa"
   },
   "source": [
    "## GPUを使える場合はGPUを使うための準備"
   ]
  },
  {
   "cell_type": "code",
   "execution_count": null,
   "metadata": {
    "colab": {
     "base_uri": "https://localhost:8080/",
     "height": 34
    },
    "colab_type": "code",
    "executionInfo": {
     "elapsed": 3158,
     "status": "ok",
     "timestamp": 1566311638314,
     "user": {
      "displayName": "清水嵩文",
      "photoUrl": "",
      "userId": "02000239383457745181"
     },
     "user_tz": -540
    },
    "id": "4QV2uGLKjeK7",
    "outputId": "2219d40b-1e9e-4c41-e436-7041e07afd2a"
   },
   "outputs": [],
   "source": [
    "# GPUを使える場合はGPUを使うための準備\n",
    "if torch.cuda.is_available():\n",
    "    device = 'cuda'\n",
    "else:\n",
    "    device = 'cpu'\n",
    "print(device)"
   ]
  },
  {
   "cell_type": "markdown",
   "metadata": {
    "colab_type": "text",
    "id": "jadpoaa_vXk0"
   },
   "source": [
    "## 多層パーセプトロンでの画像分類をPyTorchで実装する際のステップは以下の通り\n",
    "- step1: データの読み込み\n",
    "- step2: ネットワークの定義\n",
    "- step3: 損失関数の定義 \n",
    "- step4: 最適化関数の定義\n",
    "- step5: 学習（講義コードはここまで）\n",
    "- step6: 学習したネットワークを使って未知データの予測"
   ]
  },
  {
   "cell_type": "markdown",
   "metadata": {
    "colab_type": "text",
    "id": "g-5qyxrJxvLQ"
   },
   "source": [
    "## step1: データの読み込み\n",
    "---\n",
    "trainデータとtestデータをダウンロード"
   ]
  },
  {
   "cell_type": "code",
   "execution_count": null,
   "metadata": {
    "colab": {
     "base_uri": "https://localhost:8080/",
     "height": 255
    },
    "colab_type": "code",
    "executionInfo": {
     "elapsed": 11399,
     "status": "ok",
     "timestamp": 1566311654052,
     "user": {
      "displayName": "清水嵩文",
      "photoUrl": "",
      "userId": "02000239383457745181"
     },
     "user_tz": -540
    },
    "id": "94nA0kAtxvLQ",
    "outputId": "18e415b2-e9e5-4556-8fdd-2507d86c5302"
   },
   "outputs": [],
   "source": [
    "trainset = MNIST(root='./data',\n",
    "                     train=True,\n",
    "                     download=True)\n",
    "\n",
    "testset = MNIST(root='./data',\n",
    "                    train=False,\n",
    "                    download=True)"
   ]
  },
  {
   "cell_type": "code",
   "execution_count": null,
   "metadata": {
    "colab": {
     "base_uri": "https://localhost:8080/",
     "height": 221
    },
    "colab_type": "code",
    "executionInfo": {
     "elapsed": 1368,
     "status": "ok",
     "timestamp": 1566311656492,
     "user": {
      "displayName": "清水嵩文",
      "photoUrl": "",
      "userId": "02000239383457745181"
     },
     "user_tz": -540
    },
    "id": "3Em0dQUEmFoV",
    "outputId": "aad50304-4997-480a-c6bf-f563e9220b22"
   },
   "outputs": [],
   "source": [
    "print(trainset.train_data.shape)\n",
    "print(trainset.train_labels.shape)\n",
    "\n",
    "print(testset.test_data.shape)\n",
    "print(testset.test_labels.shape)"
   ]
  },
  {
   "cell_type": "code",
   "execution_count": null,
   "metadata": {
    "colab": {
     "base_uri": "https://localhost:8080/",
     "height": 354
    },
    "colab_type": "code",
    "executionInfo": {
     "elapsed": 1306,
     "status": "ok",
     "timestamp": 1566311658397,
     "user": {
      "displayName": "清水嵩文",
      "photoUrl": "",
      "userId": "02000239383457745181"
     },
     "user_tz": -540
    },
    "id": "zJ8YuUFCn9OI",
    "outputId": "9fea85a1-89f3-4008-a803-e9acd1825c61"
   },
   "outputs": [],
   "source": [
    "idx = 2\n",
    "plt.imshow(trainset.train_data[idx], cmap=plt.cm.gray_r, interpolation='nearest')\n",
    "print(\"Target: \", trainset.train_labels[idx])"
   ]
  },
  {
   "cell_type": "markdown",
   "metadata": {
    "colab_type": "text",
    "id": "kXMCSJIehHnz"
   },
   "source": [
    "## TensorDatasetを作成後、DataLoaderを作成\n",
    "---\n",
    "TensorDatasetは特徴量Xとラベルyをまとめるデータ構造です。<br>\n",
    "そのTensorDatasetをDataLoaderに渡すことで、forループでデータの一部のみを受け取れるようにします。"
   ]
  },
  {
   "cell_type": "code",
   "execution_count": null,
   "metadata": {
    "colab": {
     "base_uri": "https://localhost:8080/",
     "height": 153
    },
    "colab_type": "code",
    "executionInfo": {
     "elapsed": 851,
     "status": "ok",
     "timestamp": 1566311661117,
     "user": {
      "displayName": "清水嵩文",
      "photoUrl": "",
      "userId": "02000239383457745181"
     },
     "user_tz": -540
    },
    "id": "ahUZz5x2xvLY",
    "outputId": "8f963b23-2b20-4683-d4eb-bc7bb75315c9"
   },
   "outputs": [],
   "source": [
    "X_train_tensor = trainset.train_data.reshape(trainset.train_data.shape[0], -1).type(torch.float32) # 行数だけ残して、残りはフルフラット　　　-1は残り全部なしだよー\n",
    "y_train_tensor = trainset.train_labels.type(torch.int64)\n",
    "\n",
    "X_test_tensor = testset.test_data.reshape(testset.test_data.shape[0], -1).type(torch.float32)\n",
    "y_test_tensor = testset.test_labels.type(torch.int64)"
   ]
  },
  {
   "cell_type": "code",
   "execution_count": null,
   "metadata": {
    "colab": {},
    "colab_type": "code",
    "id": "45wvEtTFn8R7"
   },
   "outputs": [],
   "source": [
    "train_dataset = TensorDataset(X_train_tensor, y_train_tensor)\n",
    "train_loader = DataLoader(train_dataset, batch_size=50, shuffle=True)"
   ]
  },
  {
   "cell_type": "code",
   "execution_count": null,
   "metadata": {
    "colab": {},
    "colab_type": "code",
    "id": "YZFwj8Cy3hUm"
   },
   "outputs": [],
   "source": [
    "test_dataset = TensorDataset(X_test_tensor, y_test_tensor)\n",
    "test_loader = DataLoader(test_dataset, batch_size=50, shuffle=True)"
   ]
  },
  {
   "cell_type": "markdown",
   "metadata": {
    "colab_type": "text",
    "id": "cKG_Yy9xxvLd"
   },
   "source": [
    "## Step2: ネットワークの定義"
   ]
  },
  {
   "cell_type": "code",
   "execution_count": null,
   "metadata": {
    "colab": {
     "base_uri": "https://localhost:8080/",
     "height": 136
    },
    "colab_type": "code",
    "executionInfo": {
     "elapsed": 920,
     "status": "ok",
     "timestamp": 1566311665186,
     "user": {
      "displayName": "清水嵩文",
      "photoUrl": "",
      "userId": "02000239383457745181"
     },
     "user_tz": -540
    },
    "id": "crfnN7gAluBf",
    "outputId": "73d49be5-a4d4-4602-f295-9ed6933d43d2"
   },
   "outputs": [],
   "source": [
    "# Enter your code here"
   ]
  },
  {
   "cell_type": "markdown",
   "metadata": {
    "colab_type": "text",
    "id": "gGdKOtW6rbNJ"
   },
   "source": [
    "## GPUに転送"
   ]
  },
  {
   "cell_type": "code",
   "execution_count": null,
   "metadata": {
    "colab": {},
    "colab_type": "code",
    "id": "_3zROJDfsssh"
   },
   "outputs": [],
   "source": [
    "# Enter your code here"
   ]
  },
  {
   "cell_type": "markdown",
   "metadata": {
    "colab_type": "text",
    "id": "pjjaU2D1xvLg"
   },
   "source": [
    "## Step3: 目的関数に交差エントロピー誤差関数を用意（損失関数の定義）"
   ]
  },
  {
   "cell_type": "code",
   "execution_count": null,
   "metadata": {
    "colab": {
     "base_uri": "https://localhost:8080/",
     "height": 34
    },
    "colab_type": "code",
    "executionInfo": {
     "elapsed": 806,
     "status": "ok",
     "timestamp": 1566311667060,
     "user": {
      "displayName": "清水嵩文",
      "photoUrl": "",
      "userId": "02000239383457745181"
     },
     "user_tz": -540
    },
    "id": "wwnMZGtDmp9g",
    "outputId": "5fa583f5-647b-414a-adb3-a7a922ab2961"
   },
   "outputs": [],
   "source": [
    "# Enter your code here"
   ]
  },
  {
   "cell_type": "markdown",
   "metadata": {
    "colab_type": "text",
    "id": "kZ1jKcJNxvLj"
   },
   "source": [
    "## Step4: Optimizerを定義する（最適化関数の定義）"
   ]
  },
  {
   "cell_type": "code",
   "execution_count": null,
   "metadata": {
    "colab": {},
    "colab_type": "code",
    "id": "OiIFzkCQmt-3"
   },
   "outputs": [],
   "source": [
    "# Enter your code here"
   ]
  },
  {
   "cell_type": "markdown",
   "metadata": {
    "colab_type": "text",
    "id": "Yiw4PLd9xvLq"
   },
   "source": [
    "## step5: 学習"
   ]
  },
  {
   "cell_type": "code",
   "execution_count": null,
   "metadata": {
    "colab": {},
    "colab_type": "code",
    "id": "COixGNNlm45m"
   },
   "outputs": [],
   "source": [
    "train_loss_track = []\n",
    "test_loss_track = []\n",
    "\n",
    "for epoc in range(10):\n",
    "    running_loss = 0\n",
    "    \n",
    "    # 学習モード\n",
    "    net.train()\n",
    "    for step, (xx, yy)  in enumerate(train_loader):\n",
    "        \n",
    "        # device = \"cuda\"の場合、GPUにデータを転送する\n",
    "        xx = xx.to(device)\n",
    "        yy = yy.to(device)\n",
    "        \n",
    "        # 最後に計算した各パラメーターの勾配を初期化する\n",
    "        optimizer.zero_grad()\n",
    "        \n",
    "        # フォワード計算を行う\n",
    "        y_pred = net(xx)\n",
    "        \n",
    "        # 誤差関数を使ってギャップの計測\n",
    "        loss = loss_func(y_pred, yy)\n",
    "        \n",
    "        # 誤差逆伝播法を使って自動微分\n",
    "        loss.backward()\n",
    "        \n",
    "        # パラメーターを更新\n",
    "        optimizer.step()\n",
    "        \n",
    "        # 学習データを使って損失を計算\n",
    "        running_loss += loss.item()\n",
    "        \n",
    "    # エポックが終了したら平均損失を計算\n",
    "    train_loss_track.append(running_loss/step)\n",
    "    \n",
    "    \n",
    "    #評価（evaluation）モード\n",
    "    net.eval()\n",
    "    \n",
    "    # device = \"cuda\"であれば評価用データをGPUに転送する\n",
    "    X_test_tensor = X_test_tensor.to(device)\n",
    "    y_test_tensor = y_test_tensor.to(device)\n",
    "    \n",
    "    # 予測値を計算\n",
    "    y_pred = net(X_test_tensor)\n",
    "    \n",
    "    # 交差エントロピー誤差関数を計算\n",
    "    test_loss = loss_func(y_pred, y_test_tensor)\n",
    "    \n",
    "    # 誤差をトラッキング\n",
    "    test_loss_track.append(test_loss)"
   ]
  },
  {
   "cell_type": "markdown",
   "metadata": {
    "colab_type": "text",
    "id": "BMpxpdfrxvLs"
   },
   "source": [
    "## 交差エントロピー誤差の推移"
   ]
  },
  {
   "cell_type": "code",
   "execution_count": null,
   "metadata": {
    "colab": {
     "base_uri": "https://localhost:8080/",
     "height": 286
    },
    "colab_type": "code",
    "executionInfo": {
     "elapsed": 36892,
     "status": "ok",
     "timestamp": 1566311710721,
     "user": {
      "displayName": "清水嵩文",
      "photoUrl": "",
      "userId": "02000239383457745181"
     },
     "user_tz": -540
    },
    "id": "AceuGmpYnNel",
    "outputId": "fcb090a1-39a4-4070-fa79-2e8e278488fb"
   },
   "outputs": [],
   "source": [
    "plt.plot(train_loss_track)"
   ]
  },
  {
   "cell_type": "code",
   "execution_count": null,
   "metadata": {
    "colab": {
     "base_uri": "https://localhost:8080/",
     "height": 286
    },
    "colab_type": "code",
    "executionInfo": {
     "elapsed": 35231,
     "status": "ok",
     "timestamp": 1566311711100,
     "user": {
      "displayName": "清水嵩文",
      "photoUrl": "",
      "userId": "02000239383457745181"
     },
     "user_tz": -540
    },
    "id": "Qs6FRPo4n6Qv",
    "outputId": "630e4edb-1e38-4079-df17-106d8db089f3"
   },
   "outputs": [],
   "source": [
    "plt.plot(test_loss_track)"
   ]
  },
  {
   "cell_type": "markdown",
   "metadata": {
    "colab_type": "text",
    "id": "2QETdx-_4NJV"
   },
   "source": [
    "## testデータでAccuracyを計算"
   ]
  },
  {
   "cell_type": "code",
   "execution_count": null,
   "metadata": {
    "colab": {
     "base_uri": "https://localhost:8080/",
     "height": 34
    },
    "colab_type": "code",
    "executionInfo": {
     "elapsed": 31994,
     "status": "ok",
     "timestamp": 1566311711100,
     "user": {
      "displayName": "清水嵩文",
      "photoUrl": "",
      "userId": "02000239383457745181"
     },
     "user_tz": -540
    },
    "id": "_vOkGPATxvLx",
    "outputId": "916c7610-b492-487e-944c-520397802397"
   },
   "outputs": [],
   "source": [
    "true = 0\n",
    "total = 0\n",
    "\n",
    "all_labels = np.array([])\n",
    "all_preds = np.array([])\n",
    "\n",
    "with torch.no_grad():\n",
    "    for test_xx, test_yy in test_loader:\n",
    "        \n",
    "        # device = \"cuda\"の場合、GPUにデータを転送する\n",
    "        test_xx = test_xx.to(device)\n",
    "        test_yy = test_yy.to(device)\n",
    "\n",
    "        outputs = net(test_xx)\n",
    "        _, predicted = torch.max(outputs.data, 1)\n",
    "        \n",
    "        all_labels = np.append(all_labels, test_yy.cpu().data.numpy())\n",
    "        all_preds = np.append(all_preds, predicted.cpu().numpy())\n",
    "        \n",
    "        total += test_yy.size(0)\n",
    "        true += (predicted == test_yy).sum().item()\n",
    "print('Accuracy: {:.2f} %'.format(100 * float(true/total)))"
   ]
  },
  {
   "cell_type": "markdown",
   "metadata": {
    "colab_type": "text",
    "id": "No7SJDGoApba"
   },
   "source": [
    "## testデータで混同行列を作成"
   ]
  },
  {
   "cell_type": "code",
   "execution_count": null,
   "metadata": {
    "colab": {
     "base_uri": "https://localhost:8080/",
     "height": 359
    },
    "colab_type": "code",
    "executionInfo": {
     "elapsed": 30317,
     "status": "ok",
     "timestamp": 1566311711101,
     "user": {
      "displayName": "清水嵩文",
      "photoUrl": "",
      "userId": "02000239383457745181"
     },
     "user_tz": -540
    },
    "id": "BvyEZKn5Aotk",
    "outputId": "185305b4-d962-4fc4-fc95-ec902ad2fd0d"
   },
   "outputs": [],
   "source": [
    "labels = np.unique(all_labels)\n",
    "cm = confusion_matrix(all_labels, all_preds, labels=labels)\n",
    "cm_labeled = pd.DataFrame(cm, columns=labels, index=labels)\n",
    "cm_labeled"
   ]
  },
  {
   "cell_type": "code",
   "execution_count": null,
   "metadata": {
    "colab": {},
    "colab_type": "code",
    "id": "zo_IjCiuA3Mp"
   },
   "outputs": [],
   "source": []
  }
 ],
 "metadata": {
  "accelerator": "GPU",
  "colab": {
   "collapsed_sections": [],
   "name": "Day1_pytorch_MNIST.ipynb",
   "provenance": [],
   "version": "0.3.2"
  },
  "kernelspec": {
   "display_name": "Python 3",
   "language": "python",
   "name": "python3"
  },
  "language_info": {
   "codemirror_mode": {
    "name": "ipython",
    "version": 3
   },
   "file_extension": ".py",
   "mimetype": "text/x-python",
   "name": "python",
   "nbconvert_exporter": "python",
   "pygments_lexer": "ipython3",
   "version": "3.6.5"
  },
  "latex_envs": {
   "LaTeX_envs_menu_present": true,
   "autoclose": false,
   "autocomplete": true,
   "bibliofile": "biblio.bib",
   "cite_by": "apalike",
   "current_citInitial": 1,
   "eqLabelWithNumbers": true,
   "eqNumInitial": 1,
   "hotkeys": {
    "equation": "Ctrl-E",
    "itemize": "Ctrl-I"
   },
   "labels_anchors": false,
   "latex_user_defs": false,
   "report_style_numbering": false,
   "user_envs_cfg": false
  }
 },
 "nbformat": 4,
 "nbformat_minor": 1
}
