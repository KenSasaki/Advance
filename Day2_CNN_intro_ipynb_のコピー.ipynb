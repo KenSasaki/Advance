{
  "nbformat": 4,
  "nbformat_minor": 0,
  "metadata": {
    "colab": {
      "name": "Day2_CNN_intro.ipynb のコピー",
      "provenance": [],
      "collapsed_sections": [],
      "toc_visible": true,
      "machine_shape": "hm",
      "include_colab_link": true
    },
    "kernelspec": {
      "display_name": "Python 3",
      "language": "python",
      "name": "python3"
    },
    "language_info": {
      "codemirror_mode": {
        "name": "ipython",
        "version": 3
      },
      "file_extension": ".py",
      "mimetype": "text/x-python",
      "name": "python",
      "nbconvert_exporter": "python",
      "pygments_lexer": "ipython3",
      "version": "3.6.5"
    },
    "latex_envs": {
      "LaTeX_envs_menu_present": true,
      "autoclose": false,
      "autocomplete": true,
      "bibliofile": "biblio.bib",
      "cite_by": "apalike",
      "current_citInitial": 1,
      "eqLabelWithNumbers": true,
      "eqNumInitial": 1,
      "hotkeys": {
        "equation": "Ctrl-E",
        "itemize": "Ctrl-I"
      },
      "labels_anchors": false,
      "latex_user_defs": false,
      "report_style_numbering": false,
      "user_envs_cfg": false
    },
    "widgets": {
      "application/vnd.jupyter.widget-state+json": {
        "e9c2a9f5f5a34745961b3c1bf07dece8": {
          "model_module": "@jupyter-widgets/controls",
          "model_name": "HBoxModel",
          "state": {
            "_view_name": "HBoxView",
            "_dom_classes": [],
            "_model_name": "HBoxModel",
            "_view_module": "@jupyter-widgets/controls",
            "_model_module_version": "1.5.0",
            "_view_count": null,
            "_view_module_version": "1.5.0",
            "box_style": "",
            "layout": "IPY_MODEL_71ad02030a54425fa8d6c42218e32512",
            "_model_module": "@jupyter-widgets/controls",
            "children": [
              "IPY_MODEL_6f8769d3dab94c3383a0a1403e843758",
              "IPY_MODEL_52f0989191a44f6c90033203de0c8f1c"
            ]
          }
        },
        "71ad02030a54425fa8d6c42218e32512": {
          "model_module": "@jupyter-widgets/base",
          "model_name": "LayoutModel",
          "state": {
            "_view_name": "LayoutView",
            "grid_template_rows": null,
            "right": null,
            "justify_content": null,
            "_view_module": "@jupyter-widgets/base",
            "overflow": null,
            "_model_module_version": "1.2.0",
            "_view_count": null,
            "flex_flow": null,
            "width": null,
            "min_width": null,
            "border": null,
            "align_items": null,
            "bottom": null,
            "_model_module": "@jupyter-widgets/base",
            "top": null,
            "grid_column": null,
            "overflow_y": null,
            "overflow_x": null,
            "grid_auto_flow": null,
            "grid_area": null,
            "grid_template_columns": null,
            "flex": null,
            "_model_name": "LayoutModel",
            "justify_items": null,
            "grid_row": null,
            "max_height": null,
            "align_content": null,
            "visibility": null,
            "align_self": null,
            "height": null,
            "min_height": null,
            "padding": null,
            "grid_auto_rows": null,
            "grid_gap": null,
            "max_width": null,
            "order": null,
            "_view_module_version": "1.2.0",
            "grid_template_areas": null,
            "object_position": null,
            "object_fit": null,
            "grid_auto_columns": null,
            "margin": null,
            "display": null,
            "left": null
          }
        },
        "6f8769d3dab94c3383a0a1403e843758": {
          "model_module": "@jupyter-widgets/controls",
          "model_name": "IntProgressModel",
          "state": {
            "_view_name": "ProgressView",
            "style": "IPY_MODEL_22bb72b05edf4203bd60e2bb62938617",
            "_dom_classes": [],
            "description": "",
            "_model_name": "IntProgressModel",
            "bar_style": "success",
            "max": 1,
            "_view_module": "@jupyter-widgets/controls",
            "_model_module_version": "1.5.0",
            "value": 1,
            "_view_count": null,
            "_view_module_version": "1.5.0",
            "orientation": "horizontal",
            "min": 0,
            "description_tooltip": null,
            "_model_module": "@jupyter-widgets/controls",
            "layout": "IPY_MODEL_cad2465aeab246158d9ae40870f65dd0"
          }
        },
        "52f0989191a44f6c90033203de0c8f1c": {
          "model_module": "@jupyter-widgets/controls",
          "model_name": "HTMLModel",
          "state": {
            "_view_name": "HTMLView",
            "style": "IPY_MODEL_b920130c1e36414da249652dd744d320",
            "_dom_classes": [],
            "description": "",
            "_model_name": "HTMLModel",
            "placeholder": "​",
            "_view_module": "@jupyter-widgets/controls",
            "_model_module_version": "1.5.0",
            "value": "9920512it [00:00, 19298451.97it/s]",
            "_view_count": null,
            "_view_module_version": "1.5.0",
            "description_tooltip": null,
            "_model_module": "@jupyter-widgets/controls",
            "layout": "IPY_MODEL_cdced75ec9f04da0b534ca738e0f8396"
          }
        },
        "22bb72b05edf4203bd60e2bb62938617": {
          "model_module": "@jupyter-widgets/controls",
          "model_name": "ProgressStyleModel",
          "state": {
            "_view_name": "StyleView",
            "_model_name": "ProgressStyleModel",
            "description_width": "",
            "_view_module": "@jupyter-widgets/base",
            "_model_module_version": "1.5.0",
            "_view_count": null,
            "_view_module_version": "1.2.0",
            "bar_color": null,
            "_model_module": "@jupyter-widgets/controls"
          }
        },
        "cad2465aeab246158d9ae40870f65dd0": {
          "model_module": "@jupyter-widgets/base",
          "model_name": "LayoutModel",
          "state": {
            "_view_name": "LayoutView",
            "grid_template_rows": null,
            "right": null,
            "justify_content": null,
            "_view_module": "@jupyter-widgets/base",
            "overflow": null,
            "_model_module_version": "1.2.0",
            "_view_count": null,
            "flex_flow": null,
            "width": null,
            "min_width": null,
            "border": null,
            "align_items": null,
            "bottom": null,
            "_model_module": "@jupyter-widgets/base",
            "top": null,
            "grid_column": null,
            "overflow_y": null,
            "overflow_x": null,
            "grid_auto_flow": null,
            "grid_area": null,
            "grid_template_columns": null,
            "flex": null,
            "_model_name": "LayoutModel",
            "justify_items": null,
            "grid_row": null,
            "max_height": null,
            "align_content": null,
            "visibility": null,
            "align_self": null,
            "height": null,
            "min_height": null,
            "padding": null,
            "grid_auto_rows": null,
            "grid_gap": null,
            "max_width": null,
            "order": null,
            "_view_module_version": "1.2.0",
            "grid_template_areas": null,
            "object_position": null,
            "object_fit": null,
            "grid_auto_columns": null,
            "margin": null,
            "display": null,
            "left": null
          }
        },
        "b920130c1e36414da249652dd744d320": {
          "model_module": "@jupyter-widgets/controls",
          "model_name": "DescriptionStyleModel",
          "state": {
            "_view_name": "StyleView",
            "_model_name": "DescriptionStyleModel",
            "description_width": "",
            "_view_module": "@jupyter-widgets/base",
            "_model_module_version": "1.5.0",
            "_view_count": null,
            "_view_module_version": "1.2.0",
            "_model_module": "@jupyter-widgets/controls"
          }
        },
        "cdced75ec9f04da0b534ca738e0f8396": {
          "model_module": "@jupyter-widgets/base",
          "model_name": "LayoutModel",
          "state": {
            "_view_name": "LayoutView",
            "grid_template_rows": null,
            "right": null,
            "justify_content": null,
            "_view_module": "@jupyter-widgets/base",
            "overflow": null,
            "_model_module_version": "1.2.0",
            "_view_count": null,
            "flex_flow": null,
            "width": null,
            "min_width": null,
            "border": null,
            "align_items": null,
            "bottom": null,
            "_model_module": "@jupyter-widgets/base",
            "top": null,
            "grid_column": null,
            "overflow_y": null,
            "overflow_x": null,
            "grid_auto_flow": null,
            "grid_area": null,
            "grid_template_columns": null,
            "flex": null,
            "_model_name": "LayoutModel",
            "justify_items": null,
            "grid_row": null,
            "max_height": null,
            "align_content": null,
            "visibility": null,
            "align_self": null,
            "height": null,
            "min_height": null,
            "padding": null,
            "grid_auto_rows": null,
            "grid_gap": null,
            "max_width": null,
            "order": null,
            "_view_module_version": "1.2.0",
            "grid_template_areas": null,
            "object_position": null,
            "object_fit": null,
            "grid_auto_columns": null,
            "margin": null,
            "display": null,
            "left": null
          }
        },
        "db3bfe687c9948c0ad9e40f3cd930b17": {
          "model_module": "@jupyter-widgets/controls",
          "model_name": "HBoxModel",
          "state": {
            "_view_name": "HBoxView",
            "_dom_classes": [],
            "_model_name": "HBoxModel",
            "_view_module": "@jupyter-widgets/controls",
            "_model_module_version": "1.5.0",
            "_view_count": null,
            "_view_module_version": "1.5.0",
            "box_style": "",
            "layout": "IPY_MODEL_1e2f4b15a25c484da4a1a4132042eb39",
            "_model_module": "@jupyter-widgets/controls",
            "children": [
              "IPY_MODEL_50cbf2bf4861406fbbc38e4d50492ca2",
              "IPY_MODEL_c2ed5109d0fe4e7eabb3819dd3a268a2"
            ]
          }
        },
        "1e2f4b15a25c484da4a1a4132042eb39": {
          "model_module": "@jupyter-widgets/base",
          "model_name": "LayoutModel",
          "state": {
            "_view_name": "LayoutView",
            "grid_template_rows": null,
            "right": null,
            "justify_content": null,
            "_view_module": "@jupyter-widgets/base",
            "overflow": null,
            "_model_module_version": "1.2.0",
            "_view_count": null,
            "flex_flow": null,
            "width": null,
            "min_width": null,
            "border": null,
            "align_items": null,
            "bottom": null,
            "_model_module": "@jupyter-widgets/base",
            "top": null,
            "grid_column": null,
            "overflow_y": null,
            "overflow_x": null,
            "grid_auto_flow": null,
            "grid_area": null,
            "grid_template_columns": null,
            "flex": null,
            "_model_name": "LayoutModel",
            "justify_items": null,
            "grid_row": null,
            "max_height": null,
            "align_content": null,
            "visibility": null,
            "align_self": null,
            "height": null,
            "min_height": null,
            "padding": null,
            "grid_auto_rows": null,
            "grid_gap": null,
            "max_width": null,
            "order": null,
            "_view_module_version": "1.2.0",
            "grid_template_areas": null,
            "object_position": null,
            "object_fit": null,
            "grid_auto_columns": null,
            "margin": null,
            "display": null,
            "left": null
          }
        },
        "50cbf2bf4861406fbbc38e4d50492ca2": {
          "model_module": "@jupyter-widgets/controls",
          "model_name": "IntProgressModel",
          "state": {
            "_view_name": "ProgressView",
            "style": "IPY_MODEL_a5e2bf2669514c6fa21991a403c142e2",
            "_dom_classes": [],
            "description": "",
            "_model_name": "IntProgressModel",
            "bar_style": "success",
            "max": 1,
            "_view_module": "@jupyter-widgets/controls",
            "_model_module_version": "1.5.0",
            "value": 1,
            "_view_count": null,
            "_view_module_version": "1.5.0",
            "orientation": "horizontal",
            "min": 0,
            "description_tooltip": null,
            "_model_module": "@jupyter-widgets/controls",
            "layout": "IPY_MODEL_9a220b4cab364be084eafc906fef7346"
          }
        },
        "c2ed5109d0fe4e7eabb3819dd3a268a2": {
          "model_module": "@jupyter-widgets/controls",
          "model_name": "HTMLModel",
          "state": {
            "_view_name": "HTMLView",
            "style": "IPY_MODEL_0e3e61f5e59c4ba0a41a6d50d43ae6a4",
            "_dom_classes": [],
            "description": "",
            "_model_name": "HTMLModel",
            "placeholder": "​",
            "_view_module": "@jupyter-widgets/controls",
            "_model_module_version": "1.5.0",
            "value": "32768it [00:00, 128601.46it/s]",
            "_view_count": null,
            "_view_module_version": "1.5.0",
            "description_tooltip": null,
            "_model_module": "@jupyter-widgets/controls",
            "layout": "IPY_MODEL_04fce9d4827f4f71aa15b635df18290a"
          }
        },
        "a5e2bf2669514c6fa21991a403c142e2": {
          "model_module": "@jupyter-widgets/controls",
          "model_name": "ProgressStyleModel",
          "state": {
            "_view_name": "StyleView",
            "_model_name": "ProgressStyleModel",
            "description_width": "",
            "_view_module": "@jupyter-widgets/base",
            "_model_module_version": "1.5.0",
            "_view_count": null,
            "_view_module_version": "1.2.0",
            "bar_color": null,
            "_model_module": "@jupyter-widgets/controls"
          }
        },
        "9a220b4cab364be084eafc906fef7346": {
          "model_module": "@jupyter-widgets/base",
          "model_name": "LayoutModel",
          "state": {
            "_view_name": "LayoutView",
            "grid_template_rows": null,
            "right": null,
            "justify_content": null,
            "_view_module": "@jupyter-widgets/base",
            "overflow": null,
            "_model_module_version": "1.2.0",
            "_view_count": null,
            "flex_flow": null,
            "width": null,
            "min_width": null,
            "border": null,
            "align_items": null,
            "bottom": null,
            "_model_module": "@jupyter-widgets/base",
            "top": null,
            "grid_column": null,
            "overflow_y": null,
            "overflow_x": null,
            "grid_auto_flow": null,
            "grid_area": null,
            "grid_template_columns": null,
            "flex": null,
            "_model_name": "LayoutModel",
            "justify_items": null,
            "grid_row": null,
            "max_height": null,
            "align_content": null,
            "visibility": null,
            "align_self": null,
            "height": null,
            "min_height": null,
            "padding": null,
            "grid_auto_rows": null,
            "grid_gap": null,
            "max_width": null,
            "order": null,
            "_view_module_version": "1.2.0",
            "grid_template_areas": null,
            "object_position": null,
            "object_fit": null,
            "grid_auto_columns": null,
            "margin": null,
            "display": null,
            "left": null
          }
        },
        "0e3e61f5e59c4ba0a41a6d50d43ae6a4": {
          "model_module": "@jupyter-widgets/controls",
          "model_name": "DescriptionStyleModel",
          "state": {
            "_view_name": "StyleView",
            "_model_name": "DescriptionStyleModel",
            "description_width": "",
            "_view_module": "@jupyter-widgets/base",
            "_model_module_version": "1.5.0",
            "_view_count": null,
            "_view_module_version": "1.2.0",
            "_model_module": "@jupyter-widgets/controls"
          }
        },
        "04fce9d4827f4f71aa15b635df18290a": {
          "model_module": "@jupyter-widgets/base",
          "model_name": "LayoutModel",
          "state": {
            "_view_name": "LayoutView",
            "grid_template_rows": null,
            "right": null,
            "justify_content": null,
            "_view_module": "@jupyter-widgets/base",
            "overflow": null,
            "_model_module_version": "1.2.0",
            "_view_count": null,
            "flex_flow": null,
            "width": null,
            "min_width": null,
            "border": null,
            "align_items": null,
            "bottom": null,
            "_model_module": "@jupyter-widgets/base",
            "top": null,
            "grid_column": null,
            "overflow_y": null,
            "overflow_x": null,
            "grid_auto_flow": null,
            "grid_area": null,
            "grid_template_columns": null,
            "flex": null,
            "_model_name": "LayoutModel",
            "justify_items": null,
            "grid_row": null,
            "max_height": null,
            "align_content": null,
            "visibility": null,
            "align_self": null,
            "height": null,
            "min_height": null,
            "padding": null,
            "grid_auto_rows": null,
            "grid_gap": null,
            "max_width": null,
            "order": null,
            "_view_module_version": "1.2.0",
            "grid_template_areas": null,
            "object_position": null,
            "object_fit": null,
            "grid_auto_columns": null,
            "margin": null,
            "display": null,
            "left": null
          }
        },
        "9caa2e3b1d9a4ca1a63eddd52c9ba160": {
          "model_module": "@jupyter-widgets/controls",
          "model_name": "HBoxModel",
          "state": {
            "_view_name": "HBoxView",
            "_dom_classes": [],
            "_model_name": "HBoxModel",
            "_view_module": "@jupyter-widgets/controls",
            "_model_module_version": "1.5.0",
            "_view_count": null,
            "_view_module_version": "1.5.0",
            "box_style": "",
            "layout": "IPY_MODEL_6bc82a414ad942049be93b7467f0da5f",
            "_model_module": "@jupyter-widgets/controls",
            "children": [
              "IPY_MODEL_133c2926798742f8935d79c4eb7295b4",
              "IPY_MODEL_1981c12f28d84ea8a9d2ae6b341c08b3"
            ]
          }
        },
        "6bc82a414ad942049be93b7467f0da5f": {
          "model_module": "@jupyter-widgets/base",
          "model_name": "LayoutModel",
          "state": {
            "_view_name": "LayoutView",
            "grid_template_rows": null,
            "right": null,
            "justify_content": null,
            "_view_module": "@jupyter-widgets/base",
            "overflow": null,
            "_model_module_version": "1.2.0",
            "_view_count": null,
            "flex_flow": null,
            "width": null,
            "min_width": null,
            "border": null,
            "align_items": null,
            "bottom": null,
            "_model_module": "@jupyter-widgets/base",
            "top": null,
            "grid_column": null,
            "overflow_y": null,
            "overflow_x": null,
            "grid_auto_flow": null,
            "grid_area": null,
            "grid_template_columns": null,
            "flex": null,
            "_model_name": "LayoutModel",
            "justify_items": null,
            "grid_row": null,
            "max_height": null,
            "align_content": null,
            "visibility": null,
            "align_self": null,
            "height": null,
            "min_height": null,
            "padding": null,
            "grid_auto_rows": null,
            "grid_gap": null,
            "max_width": null,
            "order": null,
            "_view_module_version": "1.2.0",
            "grid_template_areas": null,
            "object_position": null,
            "object_fit": null,
            "grid_auto_columns": null,
            "margin": null,
            "display": null,
            "left": null
          }
        },
        "133c2926798742f8935d79c4eb7295b4": {
          "model_module": "@jupyter-widgets/controls",
          "model_name": "IntProgressModel",
          "state": {
            "_view_name": "ProgressView",
            "style": "IPY_MODEL_0c8ac444995d4eadbf30fa6c7e6b481d",
            "_dom_classes": [],
            "description": "",
            "_model_name": "IntProgressModel",
            "bar_style": "success",
            "max": 1,
            "_view_module": "@jupyter-widgets/controls",
            "_model_module_version": "1.5.0",
            "value": 1,
            "_view_count": null,
            "_view_module_version": "1.5.0",
            "orientation": "horizontal",
            "min": 0,
            "description_tooltip": null,
            "_model_module": "@jupyter-widgets/controls",
            "layout": "IPY_MODEL_b2a424b22b924793936bf16c1eaabd84"
          }
        },
        "1981c12f28d84ea8a9d2ae6b341c08b3": {
          "model_module": "@jupyter-widgets/controls",
          "model_name": "HTMLModel",
          "state": {
            "_view_name": "HTMLView",
            "style": "IPY_MODEL_bdbb1bc192694de1a3f26e23a7518c9f",
            "_dom_classes": [],
            "description": "",
            "_model_name": "HTMLModel",
            "placeholder": "​",
            "_view_module": "@jupyter-widgets/controls",
            "_model_module_version": "1.5.0",
            "value": "1654784it [00:00, 5718465.28it/s]",
            "_view_count": null,
            "_view_module_version": "1.5.0",
            "description_tooltip": null,
            "_model_module": "@jupyter-widgets/controls",
            "layout": "IPY_MODEL_d599f1f2d64744d084f62f783be0f96d"
          }
        },
        "0c8ac444995d4eadbf30fa6c7e6b481d": {
          "model_module": "@jupyter-widgets/controls",
          "model_name": "ProgressStyleModel",
          "state": {
            "_view_name": "StyleView",
            "_model_name": "ProgressStyleModel",
            "description_width": "",
            "_view_module": "@jupyter-widgets/base",
            "_model_module_version": "1.5.0",
            "_view_count": null,
            "_view_module_version": "1.2.0",
            "bar_color": null,
            "_model_module": "@jupyter-widgets/controls"
          }
        },
        "b2a424b22b924793936bf16c1eaabd84": {
          "model_module": "@jupyter-widgets/base",
          "model_name": "LayoutModel",
          "state": {
            "_view_name": "LayoutView",
            "grid_template_rows": null,
            "right": null,
            "justify_content": null,
            "_view_module": "@jupyter-widgets/base",
            "overflow": null,
            "_model_module_version": "1.2.0",
            "_view_count": null,
            "flex_flow": null,
            "width": null,
            "min_width": null,
            "border": null,
            "align_items": null,
            "bottom": null,
            "_model_module": "@jupyter-widgets/base",
            "top": null,
            "grid_column": null,
            "overflow_y": null,
            "overflow_x": null,
            "grid_auto_flow": null,
            "grid_area": null,
            "grid_template_columns": null,
            "flex": null,
            "_model_name": "LayoutModel",
            "justify_items": null,
            "grid_row": null,
            "max_height": null,
            "align_content": null,
            "visibility": null,
            "align_self": null,
            "height": null,
            "min_height": null,
            "padding": null,
            "grid_auto_rows": null,
            "grid_gap": null,
            "max_width": null,
            "order": null,
            "_view_module_version": "1.2.0",
            "grid_template_areas": null,
            "object_position": null,
            "object_fit": null,
            "grid_auto_columns": null,
            "margin": null,
            "display": null,
            "left": null
          }
        },
        "bdbb1bc192694de1a3f26e23a7518c9f": {
          "model_module": "@jupyter-widgets/controls",
          "model_name": "DescriptionStyleModel",
          "state": {
            "_view_name": "StyleView",
            "_model_name": "DescriptionStyleModel",
            "description_width": "",
            "_view_module": "@jupyter-widgets/base",
            "_model_module_version": "1.5.0",
            "_view_count": null,
            "_view_module_version": "1.2.0",
            "_model_module": "@jupyter-widgets/controls"
          }
        },
        "d599f1f2d64744d084f62f783be0f96d": {
          "model_module": "@jupyter-widgets/base",
          "model_name": "LayoutModel",
          "state": {
            "_view_name": "LayoutView",
            "grid_template_rows": null,
            "right": null,
            "justify_content": null,
            "_view_module": "@jupyter-widgets/base",
            "overflow": null,
            "_model_module_version": "1.2.0",
            "_view_count": null,
            "flex_flow": null,
            "width": null,
            "min_width": null,
            "border": null,
            "align_items": null,
            "bottom": null,
            "_model_module": "@jupyter-widgets/base",
            "top": null,
            "grid_column": null,
            "overflow_y": null,
            "overflow_x": null,
            "grid_auto_flow": null,
            "grid_area": null,
            "grid_template_columns": null,
            "flex": null,
            "_model_name": "LayoutModel",
            "justify_items": null,
            "grid_row": null,
            "max_height": null,
            "align_content": null,
            "visibility": null,
            "align_self": null,
            "height": null,
            "min_height": null,
            "padding": null,
            "grid_auto_rows": null,
            "grid_gap": null,
            "max_width": null,
            "order": null,
            "_view_module_version": "1.2.0",
            "grid_template_areas": null,
            "object_position": null,
            "object_fit": null,
            "grid_auto_columns": null,
            "margin": null,
            "display": null,
            "left": null
          }
        },
        "c94efa3883224cec9b62df84b83a83bc": {
          "model_module": "@jupyter-widgets/controls",
          "model_name": "HBoxModel",
          "state": {
            "_view_name": "HBoxView",
            "_dom_classes": [],
            "_model_name": "HBoxModel",
            "_view_module": "@jupyter-widgets/controls",
            "_model_module_version": "1.5.0",
            "_view_count": null,
            "_view_module_version": "1.5.0",
            "box_style": "",
            "layout": "IPY_MODEL_cd2451d8a5064605be6f85923110b66a",
            "_model_module": "@jupyter-widgets/controls",
            "children": [
              "IPY_MODEL_88ea02b8fa2144a39eab52a3ce82415a",
              "IPY_MODEL_39441812be5446808f40f6342d578dd3"
            ]
          }
        },
        "cd2451d8a5064605be6f85923110b66a": {
          "model_module": "@jupyter-widgets/base",
          "model_name": "LayoutModel",
          "state": {
            "_view_name": "LayoutView",
            "grid_template_rows": null,
            "right": null,
            "justify_content": null,
            "_view_module": "@jupyter-widgets/base",
            "overflow": null,
            "_model_module_version": "1.2.0",
            "_view_count": null,
            "flex_flow": null,
            "width": null,
            "min_width": null,
            "border": null,
            "align_items": null,
            "bottom": null,
            "_model_module": "@jupyter-widgets/base",
            "top": null,
            "grid_column": null,
            "overflow_y": null,
            "overflow_x": null,
            "grid_auto_flow": null,
            "grid_area": null,
            "grid_template_columns": null,
            "flex": null,
            "_model_name": "LayoutModel",
            "justify_items": null,
            "grid_row": null,
            "max_height": null,
            "align_content": null,
            "visibility": null,
            "align_self": null,
            "height": null,
            "min_height": null,
            "padding": null,
            "grid_auto_rows": null,
            "grid_gap": null,
            "max_width": null,
            "order": null,
            "_view_module_version": "1.2.0",
            "grid_template_areas": null,
            "object_position": null,
            "object_fit": null,
            "grid_auto_columns": null,
            "margin": null,
            "display": null,
            "left": null
          }
        },
        "88ea02b8fa2144a39eab52a3ce82415a": {
          "model_module": "@jupyter-widgets/controls",
          "model_name": "IntProgressModel",
          "state": {
            "_view_name": "ProgressView",
            "style": "IPY_MODEL_d67c872f53344e759ccf890e5ae54902",
            "_dom_classes": [],
            "description": "",
            "_model_name": "IntProgressModel",
            "bar_style": "success",
            "max": 1,
            "_view_module": "@jupyter-widgets/controls",
            "_model_module_version": "1.5.0",
            "value": 1,
            "_view_count": null,
            "_view_module_version": "1.5.0",
            "orientation": "horizontal",
            "min": 0,
            "description_tooltip": null,
            "_model_module": "@jupyter-widgets/controls",
            "layout": "IPY_MODEL_697603407f9b4982a146d30249446041"
          }
        },
        "39441812be5446808f40f6342d578dd3": {
          "model_module": "@jupyter-widgets/controls",
          "model_name": "HTMLModel",
          "state": {
            "_view_name": "HTMLView",
            "style": "IPY_MODEL_2840ff3ac5b34b669892ae7d4606c024",
            "_dom_classes": [],
            "description": "",
            "_model_name": "HTMLModel",
            "placeholder": "​",
            "_view_module": "@jupyter-widgets/controls",
            "_model_module_version": "1.5.0",
            "value": "8192it [00:00, 76301.22it/s]",
            "_view_count": null,
            "_view_module_version": "1.5.0",
            "description_tooltip": null,
            "_model_module": "@jupyter-widgets/controls",
            "layout": "IPY_MODEL_114f4c9155f547aabb42d3a15a88d872"
          }
        },
        "d67c872f53344e759ccf890e5ae54902": {
          "model_module": "@jupyter-widgets/controls",
          "model_name": "ProgressStyleModel",
          "state": {
            "_view_name": "StyleView",
            "_model_name": "ProgressStyleModel",
            "description_width": "",
            "_view_module": "@jupyter-widgets/base",
            "_model_module_version": "1.5.0",
            "_view_count": null,
            "_view_module_version": "1.2.0",
            "bar_color": null,
            "_model_module": "@jupyter-widgets/controls"
          }
        },
        "697603407f9b4982a146d30249446041": {
          "model_module": "@jupyter-widgets/base",
          "model_name": "LayoutModel",
          "state": {
            "_view_name": "LayoutView",
            "grid_template_rows": null,
            "right": null,
            "justify_content": null,
            "_view_module": "@jupyter-widgets/base",
            "overflow": null,
            "_model_module_version": "1.2.0",
            "_view_count": null,
            "flex_flow": null,
            "width": null,
            "min_width": null,
            "border": null,
            "align_items": null,
            "bottom": null,
            "_model_module": "@jupyter-widgets/base",
            "top": null,
            "grid_column": null,
            "overflow_y": null,
            "overflow_x": null,
            "grid_auto_flow": null,
            "grid_area": null,
            "grid_template_columns": null,
            "flex": null,
            "_model_name": "LayoutModel",
            "justify_items": null,
            "grid_row": null,
            "max_height": null,
            "align_content": null,
            "visibility": null,
            "align_self": null,
            "height": null,
            "min_height": null,
            "padding": null,
            "grid_auto_rows": null,
            "grid_gap": null,
            "max_width": null,
            "order": null,
            "_view_module_version": "1.2.0",
            "grid_template_areas": null,
            "object_position": null,
            "object_fit": null,
            "grid_auto_columns": null,
            "margin": null,
            "display": null,
            "left": null
          }
        },
        "2840ff3ac5b34b669892ae7d4606c024": {
          "model_module": "@jupyter-widgets/controls",
          "model_name": "DescriptionStyleModel",
          "state": {
            "_view_name": "StyleView",
            "_model_name": "DescriptionStyleModel",
            "description_width": "",
            "_view_module": "@jupyter-widgets/base",
            "_model_module_version": "1.5.0",
            "_view_count": null,
            "_view_module_version": "1.2.0",
            "_model_module": "@jupyter-widgets/controls"
          }
        },
        "114f4c9155f547aabb42d3a15a88d872": {
          "model_module": "@jupyter-widgets/base",
          "model_name": "LayoutModel",
          "state": {
            "_view_name": "LayoutView",
            "grid_template_rows": null,
            "right": null,
            "justify_content": null,
            "_view_module": "@jupyter-widgets/base",
            "overflow": null,
            "_model_module_version": "1.2.0",
            "_view_count": null,
            "flex_flow": null,
            "width": null,
            "min_width": null,
            "border": null,
            "align_items": null,
            "bottom": null,
            "_model_module": "@jupyter-widgets/base",
            "top": null,
            "grid_column": null,
            "overflow_y": null,
            "overflow_x": null,
            "grid_auto_flow": null,
            "grid_area": null,
            "grid_template_columns": null,
            "flex": null,
            "_model_name": "LayoutModel",
            "justify_items": null,
            "grid_row": null,
            "max_height": null,
            "align_content": null,
            "visibility": null,
            "align_self": null,
            "height": null,
            "min_height": null,
            "padding": null,
            "grid_auto_rows": null,
            "grid_gap": null,
            "max_width": null,
            "order": null,
            "_view_module_version": "1.2.0",
            "grid_template_areas": null,
            "object_position": null,
            "object_fit": null,
            "grid_auto_columns": null,
            "margin": null,
            "display": null,
            "left": null
          }
        }
      }
    }
  },
  "cells": [
    {
      "cell_type": "markdown",
      "metadata": {
        "id": "view-in-github",
        "colab_type": "text"
      },
      "source": [
        "<a href=\"https://colab.research.google.com/github/KenSasaki/Advance/blob/master/Day2_CNN_intro_ipynb_%E3%81%AE%E3%82%B3%E3%83%94%E3%83%BC.ipynb\" target=\"_parent\"><img src=\"https://colab.research.google.com/assets/colab-badge.svg\" alt=\"Open In Colab\"/></a>"
      ]
    },
    {
      "cell_type": "code",
      "metadata": {
        "colab_type": "code",
        "id": "4wQOZgPLeMBp",
        "colab": {}
      },
      "source": [
        "%matplotlib inline\n",
        "\n",
        "import numpy as np\n",
        "import pandas as pd\n",
        "import torch\n",
        "from torch import nn\n",
        "from torch import optim\n",
        "import torch.nn.functional as F\n",
        "from torch.utils.data import DataLoader, TensorDataset\n",
        "from sklearn.model_selection import train_test_split\n",
        "import matplotlib.pyplot as plt\n",
        "from sklearn.metrics import confusion_matrix\n",
        "from IPython.display import Image, display_png\n",
        "\n",
        "# digitsデータを使うためにimportする\n",
        "from torchvision.datasets import MNIST\n",
        "import torchvision"
      ],
      "execution_count": 0,
      "outputs": []
    },
    {
      "cell_type": "markdown",
      "metadata": {
        "colab_type": "text",
        "id": "ArK5k9jhj1nj"
      },
      "source": [
        "## GPUを使える場合はGPUを使うための準備"
      ]
    },
    {
      "cell_type": "code",
      "metadata": {
        "colab_type": "code",
        "id": "IMDLjrjajxgR",
        "outputId": "35c1b2bd-2b00-44ab-d48c-8e2092c07d1e",
        "colab": {
          "base_uri": "https://localhost:8080/",
          "height": 35
        }
      },
      "source": [
        "if torch.cuda.is_available():\n",
        "    device = 'cuda'\n",
        "else:\n",
        "    device = 'cpu'\n",
        "print(device)"
      ],
      "execution_count": 3,
      "outputs": [
        {
          "output_type": "stream",
          "text": [
            "cpu\n"
          ],
          "name": "stdout"
        }
      ]
    },
    {
      "cell_type": "markdown",
      "metadata": {
        "colab_type": "text",
        "id": "8642Ahqhfw51"
      },
      "source": [
        "## 画像分類をPyTorchで実装する際のステップは以下の通り\n",
        "- step1: データの読み込み\n",
        "- step2: ネットワークの定義\n",
        "- step3: 損失関数の定義 \n",
        "- step4: 最適化関数の定義\n",
        "- step5: 学習（講義コードはここまで）\n",
        "- step6: 学習したネットワークを使って未知データの予測"
      ]
    },
    {
      "cell_type": "markdown",
      "metadata": {
        "colab_type": "text",
        "id": "sGKbS1Mhfz3K"
      },
      "source": [
        "## step1: データの読み込み\n",
        "---\n",
        "trainデータとtestデータをダウンロード"
      ]
    },
    {
      "cell_type": "code",
      "metadata": {
        "colab_type": "code",
        "id": "PitkBeg9eMCg",
        "outputId": "d8a2cbf2-28d2-4440-fc16-2175c3d40b13",
        "colab": {
          "base_uri": "https://localhost:8080/",
          "height": 417,
          "referenced_widgets": [
            "e9c2a9f5f5a34745961b3c1bf07dece8",
            "71ad02030a54425fa8d6c42218e32512",
            "6f8769d3dab94c3383a0a1403e843758",
            "52f0989191a44f6c90033203de0c8f1c",
            "22bb72b05edf4203bd60e2bb62938617",
            "cad2465aeab246158d9ae40870f65dd0",
            "b920130c1e36414da249652dd744d320",
            "cdced75ec9f04da0b534ca738e0f8396",
            "db3bfe687c9948c0ad9e40f3cd930b17",
            "1e2f4b15a25c484da4a1a4132042eb39",
            "50cbf2bf4861406fbbc38e4d50492ca2",
            "c2ed5109d0fe4e7eabb3819dd3a268a2",
            "a5e2bf2669514c6fa21991a403c142e2",
            "9a220b4cab364be084eafc906fef7346",
            "0e3e61f5e59c4ba0a41a6d50d43ae6a4",
            "04fce9d4827f4f71aa15b635df18290a",
            "9caa2e3b1d9a4ca1a63eddd52c9ba160",
            "6bc82a414ad942049be93b7467f0da5f",
            "133c2926798742f8935d79c4eb7295b4",
            "1981c12f28d84ea8a9d2ae6b341c08b3",
            "0c8ac444995d4eadbf30fa6c7e6b481d",
            "b2a424b22b924793936bf16c1eaabd84",
            "bdbb1bc192694de1a3f26e23a7518c9f",
            "d599f1f2d64744d084f62f783be0f96d",
            "c94efa3883224cec9b62df84b83a83bc",
            "cd2451d8a5064605be6f85923110b66a",
            "88ea02b8fa2144a39eab52a3ce82415a",
            "39441812be5446808f40f6342d578dd3",
            "d67c872f53344e759ccf890e5ae54902",
            "697603407f9b4982a146d30249446041",
            "2840ff3ac5b34b669892ae7d4606c024",
            "114f4c9155f547aabb42d3a15a88d872"
          ]
        }
      },
      "source": [
        "trainset = MNIST(root='./data',\n",
        "                     train=True,\n",
        "                     download=True,\n",
        "                transform=torchvision.transforms.Compose([\n",
        "                               torchvision.transforms.ToTensor()\n",
        "                ]))\n",
        "\n",
        "testset = MNIST(root='./data',\n",
        "                    train=False,\n",
        "                    download=True)"
      ],
      "execution_count": 4,
      "outputs": [
        {
          "output_type": "stream",
          "text": [
            "Downloading http://yann.lecun.com/exdb/mnist/train-images-idx3-ubyte.gz to ./data/MNIST/raw/train-images-idx3-ubyte.gz\n"
          ],
          "name": "stdout"
        },
        {
          "output_type": "display_data",
          "data": {
            "application/vnd.jupyter.widget-view+json": {
              "model_id": "e9c2a9f5f5a34745961b3c1bf07dece8",
              "version_minor": 0,
              "version_major": 2
            },
            "text/plain": [
              "HBox(children=(IntProgress(value=1, bar_style='info', max=1), HTML(value='')))"
            ]
          },
          "metadata": {
            "tags": []
          }
        },
        {
          "output_type": "stream",
          "text": [
            "\n",
            "Extracting ./data/MNIST/raw/train-images-idx3-ubyte.gz to ./data/MNIST/raw\n",
            "Downloading http://yann.lecun.com/exdb/mnist/train-labels-idx1-ubyte.gz to ./data/MNIST/raw/train-labels-idx1-ubyte.gz\n"
          ],
          "name": "stdout"
        },
        {
          "output_type": "display_data",
          "data": {
            "application/vnd.jupyter.widget-view+json": {
              "model_id": "db3bfe687c9948c0ad9e40f3cd930b17",
              "version_minor": 0,
              "version_major": 2
            },
            "text/plain": [
              "HBox(children=(IntProgress(value=1, bar_style='info', max=1), HTML(value='')))"
            ]
          },
          "metadata": {
            "tags": []
          }
        },
        {
          "output_type": "stream",
          "text": [
            "\n",
            "Extracting ./data/MNIST/raw/train-labels-idx1-ubyte.gz to ./data/MNIST/raw\n",
            "Downloading http://yann.lecun.com/exdb/mnist/t10k-images-idx3-ubyte.gz to ./data/MNIST/raw/t10k-images-idx3-ubyte.gz\n"
          ],
          "name": "stdout"
        },
        {
          "output_type": "display_data",
          "data": {
            "application/vnd.jupyter.widget-view+json": {
              "model_id": "9caa2e3b1d9a4ca1a63eddd52c9ba160",
              "version_minor": 0,
              "version_major": 2
            },
            "text/plain": [
              "HBox(children=(IntProgress(value=1, bar_style='info', max=1), HTML(value='')))"
            ]
          },
          "metadata": {
            "tags": []
          }
        },
        {
          "output_type": "stream",
          "text": [
            "\n",
            "Extracting ./data/MNIST/raw/t10k-images-idx3-ubyte.gz to ./data/MNIST/raw\n",
            "Downloading http://yann.lecun.com/exdb/mnist/t10k-labels-idx1-ubyte.gz to ./data/MNIST/raw/t10k-labels-idx1-ubyte.gz\n"
          ],
          "name": "stdout"
        },
        {
          "output_type": "display_data",
          "data": {
            "application/vnd.jupyter.widget-view+json": {
              "model_id": "c94efa3883224cec9b62df84b83a83bc",
              "version_minor": 0,
              "version_major": 2
            },
            "text/plain": [
              "HBox(children=(IntProgress(value=1, bar_style='info', max=1), HTML(value='')))"
            ]
          },
          "metadata": {
            "tags": []
          }
        },
        {
          "output_type": "stream",
          "text": [
            "\n",
            "Extracting ./data/MNIST/raw/t10k-labels-idx1-ubyte.gz to ./data/MNIST/raw\n",
            "Processing...\n",
            "Done!\n"
          ],
          "name": "stdout"
        }
      ]
    },
    {
      "cell_type": "code",
      "metadata": {
        "colab_type": "code",
        "id": "gJb50pj0eMCl",
        "outputId": "a2dceb89-517c-4ec3-cd4b-fceb1e34b0e1",
        "colab": {
          "base_uri": "https://localhost:8080/",
          "height": 253
        }
      },
      "source": [
        "print(trainset.train_data.shape)\n",
        "print(trainset.train_labels)\n",
        "\n",
        "print(testset.test_data.shape)\n",
        "print(testset.test_labels)"
      ],
      "execution_count": 5,
      "outputs": [
        {
          "output_type": "stream",
          "text": [
            "torch.Size([60000, 28, 28])\n",
            "tensor([5, 0, 4,  ..., 5, 6, 8])\n",
            "torch.Size([10000, 28, 28])\n",
            "tensor([7, 2, 1,  ..., 4, 5, 6])\n"
          ],
          "name": "stdout"
        },
        {
          "output_type": "stream",
          "text": [
            "/usr/local/lib/python3.6/dist-packages/torchvision/datasets/mnist.py:55: UserWarning: train_data has been renamed data\n",
            "  warnings.warn(\"train_data has been renamed data\")\n",
            "/usr/local/lib/python3.6/dist-packages/torchvision/datasets/mnist.py:45: UserWarning: train_labels has been renamed targets\n",
            "  warnings.warn(\"train_labels has been renamed targets\")\n",
            "/usr/local/lib/python3.6/dist-packages/torchvision/datasets/mnist.py:60: UserWarning: test_data has been renamed data\n",
            "  warnings.warn(\"test_data has been renamed data\")\n",
            "/usr/local/lib/python3.6/dist-packages/torchvision/datasets/mnist.py:50: UserWarning: test_labels has been renamed targets\n",
            "  warnings.warn(\"test_labels has been renamed targets\")\n"
          ],
          "name": "stderr"
        }
      ]
    },
    {
      "cell_type": "code",
      "metadata": {
        "colab_type": "code",
        "id": "V77GGT4UeMD_",
        "outputId": "c47b0956-d0d8-44a6-a81d-a4f29dffc5ab",
        "colab": {
          "base_uri": "https://localhost:8080/",
          "height": 375
        }
      },
      "source": [
        "idx = 2\n",
        "plt.imshow(trainset.train_data[idx], cmap=plt.cm.gray_r, interpolation='nearest')\n",
        "print(\"Target: \", trainset.train_labels[idx])"
      ],
      "execution_count": 6,
      "outputs": [
        {
          "output_type": "stream",
          "text": [
            "Target:  tensor(4)\n"
          ],
          "name": "stdout"
        },
        {
          "output_type": "stream",
          "text": [
            "/usr/local/lib/python3.6/dist-packages/torchvision/datasets/mnist.py:55: UserWarning: train_data has been renamed data\n",
            "  warnings.warn(\"train_data has been renamed data\")\n",
            "/usr/local/lib/python3.6/dist-packages/torchvision/datasets/mnist.py:45: UserWarning: train_labels has been renamed targets\n",
            "  warnings.warn(\"train_labels has been renamed targets\")\n"
          ],
          "name": "stderr"
        },
        {
          "output_type": "display_data",
          "data": {
            "image/png": "[encoded data removed]",
            "text/plain": [
              "<Figure size 432x288 with 1 Axes>"
            ]
          },
          "metadata": {
            "tags": []
          }
        }
      ]
    },
    {
      "cell_type": "markdown",
      "metadata": {
        "colab_type": "text",
        "id": "jK35L0XkgnrW"
      },
      "source": [
        "## DataLoaderを作成\n",
        "---\n",
        "TensorDatasetは特徴量Xとラベルyをまとめるデータ構造です。<br>\n",
        "そのTensorDatasetをDataLoaderに渡すことで、forループでデータの一部のみを受け取れるようにします。"
      ]
    },
    {
      "cell_type": "code",
      "metadata": {
        "colab_type": "code",
        "id": "mPT3DC_-oxKM",
        "colab": {}
      },
      "source": [
        "train_loader = DataLoader(trainset, batch_size=50, shuffle=True)"
      ],
      "execution_count": 0,
      "outputs": []
    },
    {
      "cell_type": "code",
      "metadata": {
        "colab_type": "code",
        "id": "98ouaTdDoyC3",
        "colab": {}
      },
      "source": [
        "test_loader = DataLoader(trainset, batch_size=50, shuffle=True)"
      ],
      "execution_count": 0,
      "outputs": []
    },
    {
      "cell_type": "markdown",
      "metadata": {
        "colab_type": "text",
        "id": "LkoNcZ5NeMIK"
      },
      "source": [
        "## Step2:  CNNのネットワークを定義する（ネットワークの定義）"
      ]
    },
    {
      "cell_type": "markdown",
      "metadata": {
        "id": "iHifRPF-4KXS",
        "colab_type": "text"
      },
      "source": [
        "### CNNを実行するために必要なパーツ\n",
        "Max Pooling : nn.MaxPool2d()<br>\n",
        "Average Pooling : nn.AvgPool2d()\n",
        "Convolution : nn.Conv2d()<br>"
      ]
    },
    {
      "cell_type": "code",
      "metadata": {
        "id": "FAxXqMgP4KXU",
        "colab_type": "code",
        "outputId": "f3f7517a-da21-4d58-b24e-99be311a095f",
        "colab": {
          "base_uri": "https://localhost:8080/",
          "height": 35
        }
      },
      "source": [
        "# Max Pooling : nn.MaxPool2d()\n",
        "sample_data = torch.rand([10, 1, 28, 28])\n",
        "m = nn.MaxPool2d(kernel_size=2, stride=2, padding=0)\n",
        "m(sample_data).shape"
      ],
      "execution_count": 8,
      "outputs": [
        {
          "output_type": "execute_result",
          "data": {
            "text/plain": [
              "torch.Size([10, 1, 14, 14])"
            ]
          },
          "metadata": {
            "tags": []
          },
          "execution_count": 8
        }
      ]
    },
    {
      "cell_type": "code",
      "metadata": {
        "id": "orad1cTW4KXa",
        "colab_type": "code",
        "outputId": "2bff45e9-d1e9-4533-ad29-6a4699f4d270",
        "colab": {
          "base_uri": "https://localhost:8080/",
          "height": 35
        }
      },
      "source": [
        "# Average Pooling : nn.AvgPool2d()\n",
        "sample_data = torch.rand([10, 1, 28, 28])\n",
        "m = nn.AvgPool2d(kernel_size=2, stride=2, padding=0)\n",
        "m(sample_data).shape"
      ],
      "execution_count": 9,
      "outputs": [
        {
          "output_type": "execute_result",
          "data": {
            "text/plain": [
              "torch.Size([10, 1, 14, 14])"
            ]
          },
          "metadata": {
            "tags": []
          },
          "execution_count": 9
        }
      ]
    },
    {
      "cell_type": "code",
      "metadata": {
        "scrolled": true,
        "id": "R9aLbRoL4KXg",
        "colab_type": "code",
        "outputId": "273f5388-3589-47c3-a65a-0de0b841a093",
        "colab": {
          "base_uri": "https://localhost:8080/",
          "height": 35
        }
      },
      "source": [
        "# Convolution : nn.Conv2d()\n",
        "sample_data = torch.rand([10, 1, 28, 28])\n",
        "m = nn.Conv2d(in_channels=1, out_channels=28, kernel_size=2, stride=1, padding=0)\n",
        "m(sample_data).shape"
      ],
      "execution_count": 11,
      "outputs": [
        {
          "output_type": "execute_result",
          "data": {
            "text/plain": [
              "torch.Size([10, 28, 27, 27])"
            ]
          },
          "metadata": {
            "tags": []
          },
          "execution_count": 11
        }
      ]
    },
    {
      "cell_type": "markdown",
      "metadata": {
        "colab_type": "text",
        "id": "VluryQdJeMIL"
      },
      "source": [
        "### 全結合にするためのFlattenクラスを定義しておく"
      ]
    },
    {
      "cell_type": "code",
      "metadata": {
        "colab_type": "code",
        "id": "52cYIfgUeMIM",
        "colab": {}
      },
      "source": [
        "class Flatten(nn.Module):\n",
        "    def forward(self, x):\n",
        "        sizes = x.size()\n",
        "        return x.view(sizes[0], -1)"
      ],
      "execution_count": 0,
      "outputs": []
    },
    {
      "cell_type": "code",
      "metadata": {
        "id": "DpE9NQ8Z4KXp",
        "colab_type": "code",
        "colab": {}
      },
      "source": [
        "net = nn.Sequential(\n",
        "    # inputはチャンネル数: 1　ピクセル数:  28 × 28\n",
        "    # outputはチャンネル数: 28　ピクセル数:  27 × 27\n",
        "    nn.Conv2d(in_channels=1, out_channels=28, kernel_size=2),\n",
        "    nn.ReLU(),\n",
        "    \n",
        "    # inputはチャンネル数: 28　ピクセル数:  27 × 27\n",
        "    # outputはチャンネル数: 28　ピクセル数:  13 × 13\n",
        "    nn.MaxPool2d(kernel_size=2),\n",
        "    \n",
        "    \n",
        "    # inputはチャンネル数: 28　ピクセル数:  13 × 13\n",
        "    # outputはチャンネル数: 32　ピクセル数:  12 × 12\n",
        "    nn.Conv2d(in_channels=28, out_channels=32, kernel_size=2),\n",
        "    nn.ReLU(),\n",
        "    \n",
        "    # inputはチャンネル数: 32　ピクセル数:  12 × 12\n",
        "    # outputはチャンネル数: 32　ピクセル数:  6 × 6\n",
        "    nn.MaxPool2d(kernel_size=2),\n",
        "    \n",
        "    # inputはチャンネル数: 32　ピクセル数:  6× 6\n",
        "    # outputは32×6 × 6\n",
        "    Flatten()\n",
        ")"
      ],
      "execution_count": 0,
      "outputs": []
    },
    {
      "cell_type": "markdown",
      "metadata": {
        "colab_type": "text",
        "id": "SRmDOZhteMIO"
      },
      "source": [
        "### （参考）フラットにした直後の次元数を確認するためにサンプルデータを生成"
      ]
    },
    {
      "cell_type": "code",
      "metadata": {
        "id": "Y30CkHqX4KX1",
        "colab_type": "code",
        "outputId": "25f77f70-dc6d-4ab0-8155-4c30e4cbc6bf",
        "colab": {
          "base_uri": "https://localhost:8080/",
          "height": 35
        }
      },
      "source": [
        "sample_data = torch.rand([10, 1, 28, 28])\n",
        "sample_data.shape\n",
        "# [データ数, チャンネル数, ピクセル数, ピクセル数]\n",
        "# チャンネル数: 1チャンネルならば白黒、3チャンネルならばRGB"
      ],
      "execution_count": 15,
      "outputs": [
        {
          "output_type": "execute_result",
          "data": {
            "text/plain": [
              "torch.Size([10, 1, 28, 28])"
            ]
          },
          "metadata": {
            "tags": []
          },
          "execution_count": 15
        }
      ]
    },
    {
      "cell_type": "code",
      "metadata": {
        "id": "J5e10bNq4KX-",
        "colab_type": "code",
        "outputId": "8d1312ff-6452-4adf-8f0f-407c9150a811",
        "colab": {
          "base_uri": "https://localhost:8080/",
          "height": 35
        }
      },
      "source": [
        "print(net(sample_data).shape)"
      ],
      "execution_count": 16,
      "outputs": [
        {
          "output_type": "stream",
          "text": [
            "torch.Size([10, 1152])\n"
          ],
          "name": "stdout"
        }
      ]
    },
    {
      "cell_type": "markdown",
      "metadata": {
        "colab_type": "text",
        "id": "KlXSwyo3eMIn"
      },
      "source": [
        "## ネットワークの定義"
      ]
    },
    {
      "cell_type": "code",
      "metadata": {
        "colab_type": "code",
        "id": "x9Wu-01feMIp",
        "colab": {}
      },
      "source": [
        "net = nn.Sequential(\n",
        "    nn.Conv2d(in_channels=1, out_channels=28, kernel_size=2),\n",
        "    nn.ReLU(),\n",
        "    nn.MaxPool2d(kernel_size=2),\n",
        "    nn.Conv2d(in_channels=28, out_channels=32, kernel_size=2),\n",
        "    nn.ReLU(),\n",
        "    nn.MaxPool2d(kernel_size=2),\n",
        "    Flatten(),\n",
        "    \n",
        "    # 1152 は Flatten() の出力と対応している。\n",
        "    # 32チャンネル × 6ピクセル × 6ピクセル\n",
        "    nn.Linear(1152, 100),\n",
        "    nn.ReLU(),\n",
        "    nn.Linear(100, 10)\n",
        ")"
      ],
      "execution_count": 0,
      "outputs": []
    },
    {
      "cell_type": "markdown",
      "metadata": {
        "colab_type": "text",
        "id": "_FwDZblAe6em"
      },
      "source": [
        "## GPUに転送\n",
        "---\n",
        "GPUはCPUと違って、計算処理を順番に行うのではなく、並行化して行うことができます。<br>\n",
        "Deep Learningでは膨大な量の行列計算を行うので、GPUを利用し並列化して計算を行うと高速化が見込めます。"
      ]
    },
    {
      "cell_type": "code",
      "metadata": {
        "colab_type": "code",
        "id": "ptys1dfAeMIz",
        "colab": {}
      },
      "source": [
        "net = net.to(device)"
      ],
      "execution_count": 0,
      "outputs": []
    },
    {
      "cell_type": "markdown",
      "metadata": {
        "colab_type": "text",
        "id": "iiLiVl-GeMIu"
      },
      "source": [
        "## Step3: 目的関数に交差エントロピー誤差関数を用意（損失関数の定義）"
      ]
    },
    {
      "cell_type": "code",
      "metadata": {
        "colab_type": "code",
        "id": "f9CP1FF-eMIv",
        "outputId": "9e69b12f-8b65-4668-8edb-a1ae68b15406",
        "colab": {
          "base_uri": "https://localhost:8080/",
          "height": 35
        }
      },
      "source": [
        "loss_func = nn.CrossEntropyLoss()\n",
        "print(loss_func)"
      ],
      "execution_count": 19,
      "outputs": [
        {
          "output_type": "stream",
          "text": [
            "CrossEntropyLoss()\n"
          ],
          "name": "stdout"
        }
      ]
    },
    {
      "cell_type": "markdown",
      "metadata": {
        "colab_type": "text",
        "id": "rVIOQKxgmMW_"
      },
      "source": [
        "## Step4: Optimizerを定義する（最適化関数の定義）\n",
        "---\n",
        "今回はSGDを利用します。"
      ]
    },
    {
      "cell_type": "code",
      "metadata": {
        "colab_type": "code",
        "id": "rwpGl19heMIx",
        "colab": {}
      },
      "source": [
        "optimizer = optim.SGD(net.parameters(), lr=0.1)"
      ],
      "execution_count": 0,
      "outputs": []
    },
    {
      "cell_type": "markdown",
      "metadata": {
        "colab_type": "text",
        "id": "-T3G89__milv"
      },
      "source": [
        "## step5: 学習"
      ]
    },
    {
      "cell_type": "code",
      "metadata": {
        "colab_type": "code",
        "id": "Uce5fbffeMJB",
        "outputId": "a5d230fc-b102-461e-a6a8-93d43b2042c8",
        "scrolled": false,
        "colab": {
          "base_uri": "https://localhost:8080/",
          "height": 1000
        }
      },
      "source": [
        "train_loss_track = []\n",
        "test_loss_track = []\n",
        "\n",
        "for epoc in range(5):\n",
        "    running_loss = 0\n",
        "    running_test_loss = 0\n",
        "    \n",
        "    # 学習モード\n",
        "    net.train()\n",
        "    for step, (xx, yy)  in enumerate(train_loader):\n",
        "        \n",
        "        # device = \"cuda\"の場合、GPUにデータを転送する\n",
        "        xx = xx.to(device)\n",
        "        yy = yy.to(device)\n",
        "        \n",
        "        # 最後に計算した各パラメーターの勾配を初期化する\n",
        "        optimizer.zero_grad()\n",
        "        \n",
        "        # フォワード計算を行う\n",
        "        y_pred = net(xx)\n",
        "        \n",
        "        # 誤差関数を使ってギャップの計測\n",
        "        loss = loss_func(y_pred, yy)\n",
        "        \n",
        "        # 誤差逆伝播法を使って自動微分\n",
        "        loss.backward()\n",
        "        \n",
        "        # パラメーターを更新\n",
        "        optimizer.step()\n",
        "        \n",
        "        # 学習データを使って損失を計算\n",
        "        running_loss += loss.item()\n",
        "        \n",
        "        if step % 100 == 0:\n",
        "            print('[{:d}, {:5d}] loss: {}'\n",
        "                    .format(epoc + 1, step + 1, running_loss / 100))\n",
        "            running_loss = 0.0\n",
        "        \n",
        "    # エポックが終了したら平均損失を計算\n",
        "    train_loss_track.append(running_loss / (step + 1))\n",
        "    \n",
        "    #評価（evaluation）モード\n",
        "    net.eval()\n",
        "    \n",
        "    with torch.no_grad():\n",
        "        for step, (xx_test, yy_test)  in enumerate(test_loader):\n",
        "\n",
        "            # device = \"cuda\"の場合、GPUにデータを転送する\n",
        "            xx_test = xx_test.to(device)\n",
        "            yy_test = yy_test.to(device)\n",
        "\n",
        "            # 予測値を計算\n",
        "            y_pred = net(xx_test)\n",
        "\n",
        "            # 誤差関数を使ってギャップの計測\n",
        "            test_loss = loss_func(y_pred, yy_test)\n",
        "            \n",
        "            # テストデータを使って損失を計算\n",
        "            running_test_loss += test_loss.item()\n",
        "\n",
        "        # 誤差をトラッキング\n",
        "        test_loss_track.append(running_test_loss / (step + 1))"
      ],
      "execution_count": 25,
      "outputs": [
        {
          "output_type": "stream",
          "text": [
            "[1,     1] loss: 0.0006304921209812164\n",
            "[1,   101] loss: 0.09677647929638625\n",
            "[1,   201] loss: 0.09609410161618143\n",
            "[1,   301] loss: 0.08385669765993953\n",
            "[1,   401] loss: 0.08971326419617981\n",
            "[1,   501] loss: 0.09159248023759574\n",
            "[1,   601] loss: 0.06996934830676764\n",
            "[1,   701] loss: 0.0824350306764245\n",
            "[1,   801] loss: 0.07942441095598042\n",
            "[1,   901] loss: 0.0690385479060933\n",
            "[1,  1001] loss: 0.06222975245327689\n",
            "[1,  1101] loss: 0.06802975685102865\n",
            "[2,     1] loss: 0.0004903193563222885\n",
            "[2,   101] loss: 0.06692958062514663\n",
            "[2,   201] loss: 0.052577974554151294\n",
            "[2,   301] loss: 0.051054665835108606\n",
            "[2,   401] loss: 0.05323236149502918\n",
            "[2,   501] loss: 0.061469679991714654\n",
            "[2,   601] loss: 0.05538516082451679\n",
            "[2,   701] loss: 0.05542457561357878\n",
            "[2,   801] loss: 0.056507547460496424\n",
            "[2,   901] loss: 0.04800169109366834\n",
            "[2,  1001] loss: 0.04746911046328023\n",
            "[2,  1101] loss: 0.05261215603211895\n",
            "[3,     1] loss: 0.0010946695506572723\n",
            "[3,   101] loss: 0.04115957975271158\n",
            "[3,   201] loss: 0.038366522924625314\n",
            "[3,   301] loss: 0.043503227157052606\n",
            "[3,   401] loss: 0.03772739399690181\n",
            "[3,   501] loss: 0.037013213873142374\n",
            "[3,   601] loss: 0.04430831258767284\n",
            "[3,   701] loss: 0.03673238515737467\n",
            "[3,   801] loss: 0.0561378590168897\n",
            "[3,   901] loss: 0.04553374267998152\n",
            "[3,  1001] loss: 0.04668780796229839\n",
            "[3,  1101] loss: 0.03439802707755007\n",
            "[4,     1] loss: 0.0007561510056257248\n",
            "[4,   101] loss: 0.026732197303208523\n",
            "[4,   201] loss: 0.02994033513125032\n",
            "[4,   301] loss: 0.029881345793255604\n",
            "[4,   401] loss: 0.036122855460853316\n",
            "[4,   501] loss: 0.030963806621730327\n",
            "[4,   601] loss: 0.040289412307320166\n",
            "[4,   701] loss: 0.03806054104119539\n",
            "[4,   801] loss: 0.038698781295097434\n",
            "[4,   901] loss: 0.035848115635453724\n",
            "[4,  1001] loss: 0.037787382304668424\n",
            "[4,  1101] loss: 0.035784438531845805\n",
            "[5,     1] loss: 0.00012280072085559367\n",
            "[5,   101] loss: 0.02285545082122553\n",
            "[5,   201] loss: 0.02631226790865185\n",
            "[5,   301] loss: 0.024494700895738786\n",
            "[5,   401] loss: 0.02641752187628299\n",
            "[5,   501] loss: 0.030956487237708642\n",
            "[5,   601] loss: 0.0370329047460109\n",
            "[5,   701] loss: 0.021815379527397455\n",
            "[5,   801] loss: 0.0272238642902812\n",
            "[5,   901] loss: 0.032053766251192425\n",
            "[5,  1001] loss: 0.03416317015886307\n",
            "[5,  1101] loss: 0.02996301326842513\n"
          ],
          "name": "stdout"
        }
      ]
    },
    {
      "cell_type": "markdown",
      "metadata": {
        "colab_type": "text",
        "id": "-bYkf-iNoMsV"
      },
      "source": [
        "## 交差エントロピー誤差の推移"
      ]
    },
    {
      "cell_type": "code",
      "metadata": {
        "colab_type": "code",
        "id": "LUyWOFR6eMJD",
        "colab": {
          "base_uri": "https://localhost:8080/",
          "height": 283
        },
        "outputId": "e3e42947-e1ee-4e84-9705-b707c7e2df45"
      },
      "source": [
        "plt.plot(train_loss_track)"
      ],
      "execution_count": 26,
      "outputs": [
        {
          "output_type": "execute_result",
          "data": {
            "text/plain": [
              "[<matplotlib.lines.Line2D at 0x7efd5cb5c978>]"
            ]
          },
          "metadata": {
            "tags": []
          },
          "execution_count": 26
        },
        {
          "output_type": "display_data",
          "data": {
            "image/png": "[encoded data removed]",
            "text/plain": [
              "<Figure size 432x288 with 1 Axes>"
            ]
          },
          "metadata": {
            "tags": []
          }
        }
      ]
    },
    {
      "cell_type": "code",
      "metadata": {
        "colab_type": "code",
        "id": "wktiKQhOoXUq",
        "outputId": "5d4fec73-03ee-41e1-bdb4-ebb1c558f2ac",
        "colab": {
          "base_uri": "https://localhost:8080/",
          "height": 284
        }
      },
      "source": [
        "plt.plot(test_loss_track)"
      ],
      "execution_count": 27,
      "outputs": [
        {
          "output_type": "execute_result",
          "data": {
            "text/plain": [
              "[<matplotlib.lines.Line2D at 0x7efd5e5f54a8>]"
            ]
          },
          "metadata": {
            "tags": []
          },
          "execution_count": 27
        },
        {
          "output_type": "display_data",
          "data": {
            "image/png": "[encoded data removed]",
            "text/plain": [
              "<Figure size 432x288 with 1 Axes>"
            ]
          },
          "metadata": {
            "tags": []
          }
        }
      ]
    },
    {
      "cell_type": "markdown",
      "metadata": {
        "colab_type": "text",
        "id": "MN95e3-_oSx7"
      },
      "source": [
        "## testデータでAccuracyを計算"
      ]
    },
    {
      "cell_type": "code",
      "metadata": {
        "colab_type": "code",
        "id": "hKSM_g_6oSUB",
        "outputId": "9c76fbee-afb1-46d9-c133-1dcf3bb41ea5",
        "colab": {
          "base_uri": "https://localhost:8080/",
          "height": 35
        }
      },
      "source": [
        "true = 0\n",
        "total = 0\n",
        "\n",
        "all_labels = np.array([])\n",
        "all_preds = np.array([])\n",
        "\n",
        "with torch.no_grad():\n",
        "    for test_xx, test_yy in test_loader:\n",
        "        \n",
        "        # device = \"cuda\"の場合、GPUにデータを転送する\n",
        "        test_xx = test_xx.to(device)\n",
        "        test_yy = test_yy.to(device)\n",
        "\n",
        "        outputs = net(test_xx)\n",
        "        _, predicted = torch.max(outputs.data, 1)\n",
        "        \n",
        "        all_labels = np.append(all_labels, test_yy.cpu().data.numpy())\n",
        "        all_preds = np.append(all_preds, predicted.cpu().numpy())\n",
        "        \n",
        "        total += test_yy.size(0)\n",
        "        true += (predicted == test_yy).sum().item()\n",
        "print('Accuracy: {:.2f} %'.format(100 * float(true/total)))"
      ],
      "execution_count": 28,
      "outputs": [
        {
          "output_type": "stream",
          "text": [
            "Accuracy: 99.35 %\n"
          ],
          "name": "stdout"
        }
      ]
    },
    {
      "cell_type": "markdown",
      "metadata": {
        "colab_type": "text",
        "id": "MxnZzHeSobei"
      },
      "source": [
        "## testデータで混同行列を作成"
      ]
    },
    {
      "cell_type": "code",
      "metadata": {
        "colab_type": "code",
        "id": "FMpfN1ALoddL",
        "outputId": "9f136a9c-f975-4812-fee3-247c1a2e45be",
        "colab": {
          "base_uri": "https://localhost:8080/",
          "height": 359
        }
      },
      "source": [
        "labels = np.unique(all_labels)\n",
        "cm = confusion_matrix(all_labels, all_preds, labels=labels)\n",
        "cm_labeled = pd.DataFrame(cm, columns=labels, index=labels)\n",
        "cm_labeled"
      ],
      "execution_count": 29,
      "outputs": [
        {
          "output_type": "execute_result",
          "data": {
            "text/html": [
              "<div>\n",
              "<style scoped>\n",
              "    .dataframe tbody tr th:only-of-type {\n",
              "        vertical-align: middle;\n",
              "    }\n",
              "\n",
              "    .dataframe tbody tr th {\n",
              "        vertical-align: top;\n",
              "    }\n",
              "\n",
              "    .dataframe thead th {\n",
              "        text-align: right;\n",
              "    }\n",
              "</style>\n",
              "<table border=\"1\" class=\"dataframe\">\n",
              "  <thead>\n",
              "    <tr style=\"text-align: right;\">\n",
              "      <th></th>\n",
              "      <th>0.0</th>\n",
              "      <th>1.0</th>\n",
              "      <th>2.0</th>\n",
              "      <th>3.0</th>\n",
              "      <th>4.0</th>\n",
              "      <th>5.0</th>\n",
              "      <th>6.0</th>\n",
              "      <th>7.0</th>\n",
              "      <th>8.0</th>\n",
              "      <th>9.0</th>\n",
              "    </tr>\n",
              "  </thead>\n",
              "  <tbody>\n",
              "    <tr>\n",
              "      <th>0.0</th>\n",
              "      <td>5920</td>\n",
              "      <td>0</td>\n",
              "      <td>0</td>\n",
              "      <td>0</td>\n",
              "      <td>1</td>\n",
              "      <td>0</td>\n",
              "      <td>1</td>\n",
              "      <td>0</td>\n",
              "      <td>1</td>\n",
              "      <td>0</td>\n",
              "    </tr>\n",
              "    <tr>\n",
              "      <th>1.0</th>\n",
              "      <td>1</td>\n",
              "      <td>6732</td>\n",
              "      <td>6</td>\n",
              "      <td>0</td>\n",
              "      <td>1</td>\n",
              "      <td>0</td>\n",
              "      <td>1</td>\n",
              "      <td>0</td>\n",
              "      <td>1</td>\n",
              "      <td>0</td>\n",
              "    </tr>\n",
              "    <tr>\n",
              "      <th>2.0</th>\n",
              "      <td>4</td>\n",
              "      <td>1</td>\n",
              "      <td>5951</td>\n",
              "      <td>0</td>\n",
              "      <td>0</td>\n",
              "      <td>1</td>\n",
              "      <td>0</td>\n",
              "      <td>1</td>\n",
              "      <td>0</td>\n",
              "      <td>0</td>\n",
              "    </tr>\n",
              "    <tr>\n",
              "      <th>3.0</th>\n",
              "      <td>3</td>\n",
              "      <td>0</td>\n",
              "      <td>15</td>\n",
              "      <td>6088</td>\n",
              "      <td>0</td>\n",
              "      <td>9</td>\n",
              "      <td>0</td>\n",
              "      <td>3</td>\n",
              "      <td>9</td>\n",
              "      <td>4</td>\n",
              "    </tr>\n",
              "    <tr>\n",
              "      <th>4.0</th>\n",
              "      <td>4</td>\n",
              "      <td>10</td>\n",
              "      <td>2</td>\n",
              "      <td>0</td>\n",
              "      <td>5806</td>\n",
              "      <td>0</td>\n",
              "      <td>2</td>\n",
              "      <td>1</td>\n",
              "      <td>4</td>\n",
              "      <td>13</td>\n",
              "    </tr>\n",
              "    <tr>\n",
              "      <th>5.0</th>\n",
              "      <td>5</td>\n",
              "      <td>2</td>\n",
              "      <td>0</td>\n",
              "      <td>4</td>\n",
              "      <td>1</td>\n",
              "      <td>5389</td>\n",
              "      <td>14</td>\n",
              "      <td>0</td>\n",
              "      <td>3</td>\n",
              "      <td>3</td>\n",
              "    </tr>\n",
              "    <tr>\n",
              "      <th>6.0</th>\n",
              "      <td>15</td>\n",
              "      <td>3</td>\n",
              "      <td>1</td>\n",
              "      <td>1</td>\n",
              "      <td>5</td>\n",
              "      <td>3</td>\n",
              "      <td>5888</td>\n",
              "      <td>0</td>\n",
              "      <td>2</td>\n",
              "      <td>0</td>\n",
              "    </tr>\n",
              "    <tr>\n",
              "      <th>7.0</th>\n",
              "      <td>5</td>\n",
              "      <td>29</td>\n",
              "      <td>29</td>\n",
              "      <td>5</td>\n",
              "      <td>4</td>\n",
              "      <td>1</td>\n",
              "      <td>0</td>\n",
              "      <td>6179</td>\n",
              "      <td>6</td>\n",
              "      <td>7</td>\n",
              "    </tr>\n",
              "    <tr>\n",
              "      <th>8.0</th>\n",
              "      <td>25</td>\n",
              "      <td>8</td>\n",
              "      <td>10</td>\n",
              "      <td>7</td>\n",
              "      <td>0</td>\n",
              "      <td>8</td>\n",
              "      <td>8</td>\n",
              "      <td>0</td>\n",
              "      <td>5781</td>\n",
              "      <td>4</td>\n",
              "    </tr>\n",
              "    <tr>\n",
              "      <th>9.0</th>\n",
              "      <td>21</td>\n",
              "      <td>6</td>\n",
              "      <td>1</td>\n",
              "      <td>2</td>\n",
              "      <td>22</td>\n",
              "      <td>7</td>\n",
              "      <td>0</td>\n",
              "      <td>5</td>\n",
              "      <td>7</td>\n",
              "      <td>5878</td>\n",
              "    </tr>\n",
              "  </tbody>\n",
              "</table>\n",
              "</div>"
            ],
            "text/plain": [
              "      0.0   1.0   2.0   3.0   4.0   5.0   6.0   7.0   8.0   9.0\n",
              "0.0  5920     0     0     0     1     0     1     0     1     0\n",
              "1.0     1  6732     6     0     1     0     1     0     1     0\n",
              "2.0     4     1  5951     0     0     1     0     1     0     0\n",
              "3.0     3     0    15  6088     0     9     0     3     9     4\n",
              "4.0     4    10     2     0  5806     0     2     1     4    13\n",
              "5.0     5     2     0     4     1  5389    14     0     3     3\n",
              "6.0    15     3     1     1     5     3  5888     0     2     0\n",
              "7.0     5    29    29     5     4     1     0  6179     6     7\n",
              "8.0    25     8    10     7     0     8     8     0  5781     4\n",
              "9.0    21     6     1     2    22     7     0     5     7  5878"
            ]
          },
          "metadata": {
            "tags": []
          },
          "execution_count": 29
        }
      ]
    },
    {
      "cell_type": "markdown",
      "metadata": {
        "id": "N_Nlcgtq4KZB",
        "colab_type": "text"
      },
      "source": [
        "## 【ご参考】その他レイヤー 活性化関数"
      ]
    },
    {
      "cell_type": "code",
      "metadata": {
        "id": "a2CZP1WF4KZC",
        "colab_type": "code",
        "outputId": "27dc7013-1694-40e2-c190-2ebde06a1a36",
        "colab": {
          "base_uri": "https://localhost:8080/",
          "height": 287
        }
      },
      "source": [
        "# nn.Sigmoid\n",
        "x = torch.linspace(-20, 20, 300, dtype=torch.float)\n",
        "ac = nn.Sigmoid()\n",
        "y = ac(x)\n",
        "plt.plot(x.numpy(), y.numpy(), label='')\n",
        "plt.ylim((-0.5, 1.5))"
      ],
      "execution_count": 30,
      "outputs": [
        {
          "output_type": "execute_result",
          "data": {
            "text/plain": [
              "(-0.5, 1.5)"
            ]
          },
          "metadata": {
            "tags": []
          },
          "execution_count": 30
        },
        {
          "output_type": "display_data",
          "data": {
            "image/png": "[encoded data removed]",
            "text/plain": [
              "<Figure size 432x288 with 1 Axes>"
            ]
          },
          "metadata": {
            "tags": []
          }
        }
      ]
    },
    {
      "cell_type": "code",
      "metadata": {
        "id": "mQ_kuRjW4KZH",
        "colab_type": "code",
        "outputId": "99894703-ddee-43a9-ad1f-7b39781ce28d",
        "colab": {
          "base_uri": "https://localhost:8080/",
          "height": 287
        }
      },
      "source": [
        "# nn.Tanh\n",
        "x = torch.linspace(-5, 5, 200, dtype=torch.float)\n",
        "ac = nn.Tanh()\n",
        "y = ac(x)\n",
        "plt.plot(x.numpy(), y.numpy(), label='')\n",
        "plt.ylim((-1.5, 1.5 ))"
      ],
      "execution_count": 31,
      "outputs": [
        {
          "output_type": "execute_result",
          "data": {
            "text/plain": [
              "(-1.5, 1.5)"
            ]
          },
          "metadata": {
            "tags": []
          },
          "execution_count": 31
        },
        {
          "output_type": "display_data",
          "data": {
            "image/png": "[encoded data removed]",
            "text/plain": [
              "<Figure size 432x288 with 1 Axes>"
            ]
          },
          "metadata": {
            "tags": []
          }
        }
      ]
    },
    {
      "cell_type": "code",
      "metadata": {
        "id": "EnmkKVZO4KZL",
        "colab_type": "code",
        "outputId": "4d0e45bf-c11d-4922-ae7e-c7aaf3695eeb",
        "colab": {
          "base_uri": "https://localhost:8080/",
          "height": 283
        }
      },
      "source": [
        "# nn.LeakyReLU\n",
        "# Day3で紹介するGANで利用されます\n",
        "x = torch.linspace(-5, 5, 200, dtype=torch.float)\n",
        "ac = nn.LeakyReLU(0.1)\n",
        "y = ac(x)\n",
        "plt.plot(x.numpy(), y.numpy(), label='')\n",
        "plt.ylim((-5, 5))"
      ],
      "execution_count": 32,
      "outputs": [
        {
          "output_type": "execute_result",
          "data": {
            "text/plain": [
              "(-5, 5)"
            ]
          },
          "metadata": {
            "tags": []
          },
          "execution_count": 32
        },
        {
          "output_type": "display_data",
          "data": {
            "image/png": "[encoded data removed]",
            "text/plain": [
              "<Figure size 432x288 with 1 Axes>"
            ]
          },
          "metadata": {
            "tags": []
          }
        }
      ]
    },
    {
      "cell_type": "code",
      "metadata": {
        "id": "77Q2coM44KZP",
        "colab_type": "code",
        "colab": {}
      },
      "source": [
        ""
      ],
      "execution_count": 0,
      "outputs": []
    }
  ]
}