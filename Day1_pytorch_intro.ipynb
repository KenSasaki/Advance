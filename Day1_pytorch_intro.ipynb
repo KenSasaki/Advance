{
 "cells": [
  {
   "cell_type": "code",
   "execution_count": null,
   "metadata": {},
   "outputs": [],
   "source": [
    "%matplotlib inline\n",
    "\n",
    "import torch\n",
    "from torch import nn\n",
    "from torch import optim\n",
    "import torch.nn.functional as F\n",
    "from sklearn.model_selection import train_test_split\n",
    "import matplotlib.pyplot as plt\n",
    "\n",
    "# digitsデータを使うためにimportする\n",
    "from sklearn.datasets import load_digits"
   ]
  },
  {
   "cell_type": "markdown",
   "metadata": {
    "colab_type": "text",
    "id": "NmBu9YmSkB0k"
   },
   "source": [
    "## GPUを使える場合はGPUを使うための準備"
   ]
  },
  {
   "cell_type": "code",
   "execution_count": null,
   "metadata": {},
   "outputs": [],
   "source": [
    "# GPUを使える場合はGPUを使うための準備\n",
    "if torch.cuda.is_available():\n",
    "    device = 'cuda'\n",
    "else:\n",
    "    device = 'cpu'\n",
    "print(device)"
   ]
  },
  {
   "cell_type": "markdown",
   "metadata": {
    "colab_type": "text",
    "id": "NwfMr8-9rGr-"
   },
   "source": [
    "## データの読み込み、Xとy別々に保存"
   ]
  },
  {
   "cell_type": "code",
   "execution_count": null,
   "metadata": {},
   "outputs": [],
   "source": [
    "X = load_digits()[\"data\"]\n",
    "y = load_digits()[\"target\"]"
   ]
  },
  {
   "cell_type": "code",
   "execution_count": null,
   "metadata": {},
   "outputs": [],
   "source": [
    "# Xに格納されているデータを確認\n",
    "X.shape"
   ]
  },
  {
   "cell_type": "code",
   "execution_count": null,
   "metadata": {},
   "outputs": [],
   "source": [
    "# yに格納されているデータを確認\n",
    "y.shape"
   ]
  },
  {
   "cell_type": "code",
   "execution_count": null,
   "metadata": {},
   "outputs": [],
   "source": [
    "idx = 2\n",
    "plt.imshow(X[idx].reshape(8,8), cmap=plt.cm.gray_r, interpolation='nearest')\n",
    "print(\"Target: \", y[idx])"
   ]
  },
  {
   "cell_type": "markdown",
   "metadata": {
    "colab_type": "text",
    "id": "4iWntDjuv0p3"
   },
   "source": [
    "## NumPyのarrayをtorch.tensor型に変換する\n",
    "---\n",
    "torch.tensor型とは、多次元配列を扱うためのデータ構造です。<br>\n",
    "Numpyのndarrayとほぼ同様の操作ができますが、torch.tensor型はNumpyと違いGPU処理が可能です。"
   ]
  },
  {
   "cell_type": "code",
   "execution_count": null,
   "metadata": {},
   "outputs": [],
   "source": [
    "X_tensor = torch.tensor(X, dtype=torch.float64)\n",
    "y_tensor = torch.tensor(y, dtype=torch.int64)"
   ]
  },
  {
   "cell_type": "code",
   "execution_count": null,
   "metadata": {},
   "outputs": [],
   "source": [
    "print(X_tensor)\n",
    "print(y_tensor)"
   ]
  },
  {
   "cell_type": "markdown",
   "metadata": {
    "colab_type": "text",
    "id": "AiLuP-88rGsI"
   },
   "source": [
    "## ネットワークの書き方　nn.Sequentialを使う場合の書き方\n",
    "---\n",
    "nn.Sequentialは、\"層\"を積み重ねてネットワークを構築する際に利用します。"
   ]
  },
  {
   "cell_type": "code",
   "execution_count": null,
   "metadata": {},
   "outputs": [],
   "source": [
    "net = nn.Sequential(\n",
    "    nn.Linear(64,32),\n",
    "    nn.ReLU(),\n",
    "    nn.Linear(32,10)\n",
    ")"
   ]
  },
  {
   "cell_type": "code",
   "execution_count": null,
   "metadata": {},
   "outputs": [],
   "source": [
    "net.parameters"
   ]
  },
  {
   "cell_type": "markdown",
   "metadata": {
    "colab_type": "text",
    "id": "xym7qR_XvYk9"
   },
   "source": [
    "## GPUに転送\n",
    "---\n",
    "GPUはCPUと違って、計算処理を順番に行うのではなく、並行化して行うことができます。<br>\n",
    "Deep Learningでは膨大な量の行列計算を行うので、GPUを利用し並列化して計算を行うと高速化が見込めます。"
   ]
  },
  {
   "cell_type": "code",
   "execution_count": null,
   "metadata": {},
   "outputs": [],
   "source": [
    "X_tensor = X_tensor.to(device)\n",
    "y_tensor = y_tensor.to(device)\n",
    "net = net.to(device, torch.double)"
   ]
  },
  {
   "cell_type": "markdown",
   "metadata": {
    "colab_type": "text",
    "id": "XX0TBhDzrGsL"
   },
   "source": [
    "## 目的関数の設定を行う\n",
    "---\n",
    "多クラス分類問題なので交差エントロピー誤差関数を設定します。<br>\n",
    "※ 回帰問題のために、MSELoss()等も用意されています。[Loss functionドキュメント](https://pytorch.org/docs/stable/nn.html#loss-functions)<br>\n",
    "※[nn.CrossEntropyLoss()](https://pytorch.org/docs/stable/nn.html#crossentropyloss)は、「Softmax関数」と「負の対数尤度損失」を結合しています。"
   ]
  },
  {
   "cell_type": "code",
   "execution_count": null,
   "metadata": {},
   "outputs": [],
   "source": [
    "loss_func = nn.CrossEntropyLoss()\n",
    "print(loss_func)"
   ]
  },
  {
   "cell_type": "markdown",
   "metadata": {
    "colab_type": "text",
    "id": "ROMs76eerGsO"
   },
   "source": [
    "## Optimizerを定義する\n",
    "---\n",
    "今回はSGDを使用。<br>\n",
    "Optimizerには、Adam等も用意されている。[Optimizerドキュメント](https://pytorch.org/docs/stable/optim.html)"
   ]
  },
  {
   "cell_type": "code",
   "execution_count": null,
   "metadata": {},
   "outputs": [],
   "source": [
    "optimizer = optim.SGD(net.parameters(), lr=0.1)"
   ]
  },
  {
   "cell_type": "markdown",
   "metadata": {
    "colab_type": "text",
    "id": "jVyAcwI6rGsW"
   },
   "source": [
    "## 学習"
   ]
  },
  {
   "cell_type": "code",
   "execution_count": null,
   "metadata": {},
   "outputs": [],
   "source": [
    "loss_track = []\n",
    "for epoc in range(500):\n",
    "    # まず勾配の初期化\n",
    "    optimizer.zero_grad()\n",
    "    \n",
    "    # フォワード計算\n",
    "    y_pred = net(X_tensor)\n",
    "    \n",
    "    # 損失の計算\n",
    "    loss = loss_func(y_pred, y_tensor)\n",
    "    \n",
    "    # 誤差逆伝播法を行い勾配の計算\n",
    "    loss.backward()\n",
    "    \n",
    "    # パラメーターの更新\n",
    "    optimizer.step()\n",
    "    \n",
    "    # 交差エントロピー誤差をトラッキング\n",
    "    loss_track.append(loss)"
   ]
  },
  {
   "cell_type": "markdown",
   "metadata": {
    "colab_type": "text",
    "id": "bwfGjNElrGsY"
   },
   "source": [
    "## 交差エントロピー誤差の推移"
   ]
  },
  {
   "cell_type": "code",
   "execution_count": null,
   "metadata": {},
   "outputs": [],
   "source": [
    "plt.plot(loss_track)"
   ]
  },
  {
   "cell_type": "code",
   "execution_count": null,
   "metadata": {
    "colab": {},
    "colab_type": "code",
    "id": "AZ_oV30wzky7"
   },
   "outputs": [],
   "source": []
  }
 ],
 "metadata": {
  "file_extension": ".py",
  "kernelspec": {
   "display_name": "Python 3",
   "language": "python",
   "name": "python3"
  },
  "language_info": {
   "codemirror_mode": {
    "name": "ipython",
    "version": 3
   },
   "file_extension": ".py",
   "mimetype": "text/x-python",
   "name": "python",
   "nbconvert_exporter": "python",
   "pygments_lexer": "ipython3",
   "version": "3.6.5"
  },
  "latex_envs": {
   "LaTeX_envs_menu_present": true,
   "autoclose": false,
   "autocomplete": true,
   "bibliofile": "biblio.bib",
   "cite_by": "apalike",
   "current_citInitial": 1,
   "eqLabelWithNumbers": true,
   "eqNumInitial": 1,
   "hotkeys": {
    "equation": "Ctrl-E",
    "itemize": "Ctrl-I"
   },
   "labels_anchors": false,
   "latex_user_defs": false,
   "report_style_numbering": false,
   "user_envs_cfg": false
  },
  "mimetype": "text/x-python",
  "name": "python",
  "npconvert_exporter": "python",
  "pygments_lexer": "ipython3",
  "version": 3
 },
 "nbformat": 4,
 "nbformat_minor": 2
}
