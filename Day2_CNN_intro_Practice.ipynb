{
  "nbformat": 4,
  "nbformat_minor": 0,
  "metadata": {
    "colab": {
      "name": "Day2_CNN_intro.ipynb",
      "provenance": [],
      "collapsed_sections": [],
      "machine_shape": "hm",
      "include_colab_link": true
    },
    "kernelspec": {
      "name": "python3",
      "display_name": "Python 3"
    },
    "language_info": {
      "codemirror_mode": {
        "name": "ipython",
        "version": 3
      },
      "file_extension": ".py",
      "mimetype": "text/x-python",
      "name": "python",
      "nbconvert_exporter": "python",
      "pygments_lexer": "ipython3",
      "version": "3.6.5"
    },
    "latex_envs": {
      "LaTeX_envs_menu_present": true,
      "autoclose": false,
      "autocomplete": true,
      "bibliofile": "biblio.bib",
      "cite_by": "apalike",
      "current_citInitial": 1,
      "eqLabelWithNumbers": true,
      "eqNumInitial": 1,
      "hotkeys": {
        "equation": "Ctrl-E",
        "itemize": "Ctrl-I"
      },
      "labels_anchors": false,
      "latex_user_defs": false,
      "report_style_numbering": false,
      "user_envs_cfg": false
    },
    "accelerator": "GPU"
  },
  "cells": [
    {
      "cell_type": "markdown",
      "metadata": {
        "id": "view-in-github",
        "colab_type": "text"
      },
      "source": [
        "<a href=\"https://colab.research.google.com/github/KenSasaki/Advance/blob/master/Day2_CNN_intro_Practice.ipynb\" target=\"_parent\"><img src=\"https://colab.research.google.com/assets/colab-badge.svg\" alt=\"Open In Colab\"/></a>"
      ]
    },
    {
      "cell_type": "code",
      "metadata": {
        "colab_type": "code",
        "id": "4wQOZgPLeMBp",
        "colab": {}
      },
      "source": [
        "%matplotlib inline\n",
        "\n",
        "import numpy as np\n",
        "import pandas as pd\n",
        "import torch\n",
        "from torch import nn\n",
        "from torch import optim\n",
        "import torch.nn.functional as F\n",
        "from torch.utils.data import DataLoader, TensorDataset\n",
        "from sklearn.model_selection import train_test_split\n",
        "import matplotlib.pyplot as plt\n",
        "from sklearn.metrics import confusion_matrix\n",
        "from IPython.display import Image, display_png\n",
        "\n",
        "# digitsデータを使うためにimportする\n",
        "from torchvision.datasets import MNIST\n",
        "import torchvision"
      ],
      "execution_count": 0,
      "outputs": []
    },
    {
      "cell_type": "markdown",
      "metadata": {
        "colab_type": "text",
        "id": "ArK5k9jhj1nj"
      },
      "source": [
        "## GPUを使える場合はGPUを使うための準備"
      ]
    },
    {
      "cell_type": "code",
      "metadata": {
        "colab_type": "code",
        "id": "IMDLjrjajxgR",
        "outputId": "7653782b-83cd-463d-c667-cf0c1f8e2e5d",
        "colab": {
          "base_uri": "https://localhost:8080/",
          "height": 35
        }
      },
      "source": [
        "if torch.cuda.is_available():\n",
        "    device = 'cuda'\n",
        "else:\n",
        "    device = 'cpu'\n",
        "print(device)"
      ],
      "execution_count": 2,
      "outputs": [
        {
          "output_type": "stream",
          "text": [
            "cuda\n"
          ],
          "name": "stdout"
        }
      ]
    },
    {
      "cell_type": "markdown",
      "metadata": {
        "colab_type": "text",
        "id": "8642Ahqhfw51"
      },
      "source": [
        "## 画像分類をPyTorchで実装する際のステップは以下の通り\n",
        "- step1: データの読み込み\n",
        "- step2: ネットワークの定義\n",
        "- step3: 損失関数の定義 \n",
        "- step4: 最適化関数の定義\n",
        "- step5: 学習（講義コードはここまで）\n",
        "- step6: 学習したネットワークを使って未知データの予測"
      ]
    },
    {
      "cell_type": "markdown",
      "metadata": {
        "colab_type": "text",
        "id": "sGKbS1Mhfz3K"
      },
      "source": [
        "## step1: データの読み込み\n",
        "---\n",
        "trainデータとtestデータをダウンロード"
      ]
    },
    {
      "cell_type": "code",
      "metadata": {
        "colab_type": "code",
        "id": "PitkBeg9eMCg",
        "colab": {}
      },
      "source": [
        "trainset = MNIST(root='./data',\n",
        "                     train=True,\n",
        "                     download=True,\n",
        "                transform=torchvision.transforms.Compose([\n",
        "                               torchvision.transforms.ToTensor()\n",
        "                ]))\n",
        "\n",
        "testset = MNIST(root='./data',\n",
        "                    train=False,\n",
        "                    download=True,\n",
        "                transform=torchvision.transforms.Compose([\n",
        "                               torchvision.transforms.ToTensor()\n",
        "                ]))"
      ],
      "execution_count": 0,
      "outputs": []
    },
    {
      "cell_type": "code",
      "metadata": {
        "colab_type": "code",
        "id": "gJb50pj0eMCl",
        "outputId": "e80b7645-606b-4473-a9f8-3d4b1e00f54b",
        "colab": {
          "base_uri": "https://localhost:8080/",
          "height": 233
        }
      },
      "source": [
        "print(trainset.train_data.shape)\n",
        "print(trainset.train_labels)\n",
        "\n",
        "print(testset.test_data.shape)\n",
        "print(testset.test_labels)"
      ],
      "execution_count": 5,
      "outputs": [
        {
          "output_type": "stream",
          "text": [
            "torch.Size([60000, 28, 28])\n",
            "tensor([5, 0, 4,  ..., 5, 6, 8])\n",
            "torch.Size([10000, 28, 28])\n",
            "tensor([7, 2, 1,  ..., 4, 5, 6])\n"
          ],
          "name": "stdout"
        },
        {
          "output_type": "stream",
          "text": [
            "/usr/local/lib/python3.6/dist-packages/torchvision/datasets/mnist.py:55: UserWarning: train_data has been renamed data\n",
            "  warnings.warn(\"train_data has been renamed data\")\n",
            "/usr/local/lib/python3.6/dist-packages/torchvision/datasets/mnist.py:45: UserWarning: train_labels has been renamed targets\n",
            "  warnings.warn(\"train_labels has been renamed targets\")\n",
            "/usr/local/lib/python3.6/dist-packages/torchvision/datasets/mnist.py:60: UserWarning: test_data has been renamed data\n",
            "  warnings.warn(\"test_data has been renamed data\")\n",
            "/usr/local/lib/python3.6/dist-packages/torchvision/datasets/mnist.py:50: UserWarning: test_labels has been renamed targets\n",
            "  warnings.warn(\"test_labels has been renamed targets\")\n"
          ],
          "name": "stderr"
        }
      ]
    },
    {
      "cell_type": "code",
      "metadata": {
        "colab_type": "code",
        "id": "V77GGT4UeMD_",
        "outputId": "1e9de982-787e-444e-fcd0-4d228d653153",
        "colab": {
          "base_uri": "https://localhost:8080/",
          "height": 355
        }
      },
      "source": [
        "idx = 2\n",
        "plt.imshow(trainset.train_data[idx], cmap=plt.cm.gray_r, interpolation='nearest')\n",
        "print(\"Target: \", trainset.train_labels[idx])"
      ],
      "execution_count": 8,
      "outputs": [
        {
          "output_type": "stream",
          "text": [
            "Target:  tensor(4)\n"
          ],
          "name": "stdout"
        },
        {
          "output_type": "stream",
          "text": [
            "/usr/local/lib/python3.6/dist-packages/torchvision/datasets/mnist.py:55: UserWarning: train_data has been renamed data\n",
            "  warnings.warn(\"train_data has been renamed data\")\n",
            "/usr/local/lib/python3.6/dist-packages/torchvision/datasets/mnist.py:45: UserWarning: train_labels has been renamed targets\n",
            "  warnings.warn(\"train_labels has been renamed targets\")\n"
          ],
          "name": "stderr"
        },
        {
          "output_type": "display_data",
          "data": {
            "image/png": "[encoded data removed]",
            "text/plain": [
              "<Figure size 432x288 with 1 Axes>"
            ]
          },
          "metadata": {
            "tags": []
          }
        }
      ]
    },
    {
      "cell_type": "markdown",
      "metadata": {
        "colab_type": "text",
        "id": "jK35L0XkgnrW"
      },
      "source": [
        "## DataLoaderを作成\n",
        "---\n",
        "TensorDatasetは特徴量Xとラベルyをまとめるデータ構造です。<br>\n",
        "そのTensorDatasetをDataLoaderに渡すことで、forループでデータの一部のみを受け取れるようにします。"
      ]
    },
    {
      "cell_type": "code",
      "metadata": {
        "colab_type": "code",
        "id": "mPT3DC_-oxKM",
        "colab": {}
      },
      "source": [
        "train_loader = DataLoader(trainset, batch_size=50, shuffle=True)"
      ],
      "execution_count": 0,
      "outputs": []
    },
    {
      "cell_type": "code",
      "metadata": {
        "colab_type": "code",
        "id": "98ouaTdDoyC3",
        "colab": {}
      },
      "source": [
        "test_loader = DataLoader(testset, batch_size=50, shuffle=True)"
      ],
      "execution_count": 0,
      "outputs": []
    },
    {
      "cell_type": "markdown",
      "metadata": {
        "colab_type": "text",
        "id": "LkoNcZ5NeMIK"
      },
      "source": [
        "## Step2:  CNNのネットワークを定義する（ネットワークの定義）"
      ]
    },
    {
      "cell_type": "markdown",
      "metadata": {
        "id": "iHifRPF-4KXS",
        "colab_type": "text"
      },
      "source": [
        "### CNNを実行するために必要なパーツ\n",
        "Max Pooling : nn.MaxPool2d()<br>\n",
        "Average Pooling : nn.AvgPool2d()\n",
        "Convolution : nn.Conv2d()<br>"
      ]
    },
    {
      "cell_type": "code",
      "metadata": {
        "id": "FAxXqMgP4KXU",
        "colab_type": "code",
        "outputId": "283dfd9b-95a1-4670-c5d4-bcec3c2f97fb",
        "colab": {
          "base_uri": "https://localhost:8080/",
          "height": 35
        }
      },
      "source": [
        "# Max Pooling : nn.MaxPool2d()\n",
        "sample_data = torch.rand([10, 1, 28, 28])\n",
        "m = nn.MaxPool2d(kernel_size=2, stride=2, padding=0)\n",
        "m(sample_data).shape"
      ],
      "execution_count": 0,
      "outputs": [
        {
          "output_type": "execute_result",
          "data": {
            "text/plain": [
              "torch.Size([10, 1, 14, 14])"
            ]
          },
          "metadata": {
            "tags": []
          },
          "execution_count": 42
        }
      ]
    },
    {
      "cell_type": "code",
      "metadata": {
        "id": "orad1cTW4KXa",
        "colab_type": "code",
        "outputId": "3dad39d1-f871-44ae-badb-76a582f6394c",
        "colab": {
          "base_uri": "https://localhost:8080/",
          "height": 35
        }
      },
      "source": [
        "# Average Pooling : nn.AvgPool2d()\n",
        "sample_data = torch.rand([10, 1, 28, 28])\n",
        "m = nn.AvgPool2d(kernel_size=2, stride=2, padding=0)\n",
        "m(sample_data).shape"
      ],
      "execution_count": 0,
      "outputs": [
        {
          "output_type": "execute_result",
          "data": {
            "text/plain": [
              "torch.Size([10, 1, 14, 14])"
            ]
          },
          "metadata": {
            "tags": []
          },
          "execution_count": 24
        }
      ]
    },
    {
      "cell_type": "code",
      "metadata": {
        "scrolled": true,
        "id": "R9aLbRoL4KXg",
        "colab_type": "code",
        "outputId": "22ee087f-4729-492c-f397-11e5922946a3",
        "colab": {
          "base_uri": "https://localhost:8080/",
          "height": 35
        }
      },
      "source": [
        "# Convolution : nn.Conv2d()\n",
        "sample_data = torch.rand([10, 1, 28, 28])\n",
        "m = nn.Conv2d(in_channels=1, out_channels=28, kernel_size=2, stride=1, padding=0)\n",
        "m(sample_data).shape"
      ],
      "execution_count": 0,
      "outputs": [
        {
          "output_type": "execute_result",
          "data": {
            "text/plain": [
              "torch.Size([10, 28, 27, 27])"
            ]
          },
          "metadata": {
            "tags": []
          },
          "execution_count": 25
        }
      ]
    },
    {
      "cell_type": "markdown",
      "metadata": {
        "colab_type": "text",
        "id": "VluryQdJeMIL"
      },
      "source": [
        "### 全結合にするためのFlattenクラスを定義しておく"
      ]
    },
    {
      "cell_type": "code",
      "metadata": {
        "colab_type": "code",
        "id": "52cYIfgUeMIM",
        "colab": {}
      },
      "source": [
        "class Flatten(nn.Module):\n",
        "    def forward(self, x):\n",
        "        sizes = x.size()\n",
        "        return x.view(sizes[0], -1)"
      ],
      "execution_count": 0,
      "outputs": []
    },
    {
      "cell_type": "code",
      "metadata": {
        "id": "DpE9NQ8Z4KXp",
        "colab_type": "code",
        "colab": {}
      },
      "source": [
        "net = nn.Sequential(\n",
        "    # inputはチャンネル数: 1　ピクセル数:  28 × 28\n",
        "    # outputはチャンネル数: 28　ピクセル数:  27 × 27\n",
        "    nn.Conv2d(in_channels=1, out_channels=28, kernel_size=2),\n",
        "    nn.ReLU(),\n",
        "    \n",
        "    # inputはチャンネル数: 28　ピクセル数:  27 × 27\n",
        "    # outputはチャンネル数: 28　ピクセル数:  13 × 13\n",
        "    nn.MaxPool2d(kernel_size=2),\n",
        "    \n",
        "    \n",
        "    # inputはチャンネル数: 28　ピクセル数:  13 × 13\n",
        "    # outputはチャンネル数: 32　ピクセル数:  12 × 12\n",
        "    nn.Conv2d(in_channels=28, out_channels=32, kernel_size=2),\n",
        "    nn.ReLU(),\n",
        "    \n",
        "    # inputはチャンネル数: 32　ピクセル数:  12 × 12\n",
        "    # outputはチャンネル数: 32　ピクセル数:  6 × 6\n",
        "    nn.MaxPool2d(kernel_size=2),\n",
        "    \n",
        "    # inputはチャンネル数: 32　ピクセル数:  6× 6\n",
        "    # outputは32×6 × 6\n",
        "    Flatten()\n",
        ")"
      ],
      "execution_count": 0,
      "outputs": []
    },
    {
      "cell_type": "markdown",
      "metadata": {
        "colab_type": "text",
        "id": "SRmDOZhteMIO"
      },
      "source": [
        "### （参考）フラットにした直後の次元数を確認するためにサンプルデータを生成"
      ]
    },
    {
      "cell_type": "code",
      "metadata": {
        "id": "Y30CkHqX4KX1",
        "colab_type": "code",
        "outputId": "a86d171d-2281-46ef-c24b-7b1664ac93e5",
        "colab": {
          "base_uri": "https://localhost:8080/",
          "height": 35
        }
      },
      "source": [
        "sample_data = torch.rand([10, 1, 28, 28])\n",
        "sample_data.shape\n",
        "# [データ数, チャンネル数, ピクセル数, ピクセル数]\n",
        "# チャンネル数: 1チャンネルならば白黒、3チャンネルならばRGB"
      ],
      "execution_count": 0,
      "outputs": [
        {
          "output_type": "execute_result",
          "data": {
            "text/plain": [
              "torch.Size([10, 1, 28, 28])"
            ]
          },
          "metadata": {
            "tags": []
          },
          "execution_count": 28
        }
      ]
    },
    {
      "cell_type": "code",
      "metadata": {
        "id": "J5e10bNq4KX-",
        "colab_type": "code",
        "outputId": "c9640fad-0528-40e4-c215-65258efeb739",
        "colab": {
          "base_uri": "https://localhost:8080/",
          "height": 35
        }
      },
      "source": [
        "print(net(sample_data).shape)"
      ],
      "execution_count": 0,
      "outputs": [
        {
          "output_type": "stream",
          "text": [
            "torch.Size([10, 1152])\n"
          ],
          "name": "stdout"
        }
      ]
    },
    {
      "cell_type": "markdown",
      "metadata": {
        "colab_type": "text",
        "id": "KlXSwyo3eMIn"
      },
      "source": [
        "## ネットワークの定義"
      ]
    },
    {
      "cell_type": "code",
      "metadata": {
        "colab_type": "code",
        "id": "x9Wu-01feMIp",
        "colab": {}
      },
      "source": [
        "net = nn.Sequential(\n",
        "    nn.Conv2d(in_channels=1, out_channels=28, kernel_size=2),\n",
        "    nn.ReLU(),\n",
        "    nn.MaxPool2d(kernel_size=2),\n",
        "    nn.Conv2d(in_channels=28, out_channels=32, kernel_size=2),\n",
        "    nn.ReLU(),\n",
        "    nn.MaxPool2d(kernel_size=2),\n",
        "    Flatten(),\n",
        "    \n",
        "    # 1152 は Flatten() の出力と対応している。\n",
        "    # 32チャンネル × 6ピクセル × 6ピクセル\n",
        "    nn.Linear(1152, 100),\n",
        "    nn.ReLU(),\n",
        "    nn.Linear(100, 10)\n",
        ")"
      ],
      "execution_count": 0,
      "outputs": []
    },
    {
      "cell_type": "markdown",
      "metadata": {
        "colab_type": "text",
        "id": "_FwDZblAe6em"
      },
      "source": [
        "## GPUに転送\n",
        "---\n",
        "GPUはCPUと違って、計算処理を順番に行うのではなく、並行化して行うことができます。<br>\n",
        "Deep Learningでは膨大な量の行列計算を行うので、GPUを利用し並列化して計算を行うと高速化が見込めます。"
      ]
    },
    {
      "cell_type": "code",
      "metadata": {
        "colab_type": "code",
        "id": "ptys1dfAeMIz",
        "colab": {}
      },
      "source": [
        "net = net.to(device)"
      ],
      "execution_count": 0,
      "outputs": []
    },
    {
      "cell_type": "markdown",
      "metadata": {
        "colab_type": "text",
        "id": "iiLiVl-GeMIu"
      },
      "source": [
        "## Step3: 目的関数に交差エントロピー誤差関数を用意（損失関数の定義）"
      ]
    },
    {
      "cell_type": "code",
      "metadata": {
        "colab_type": "code",
        "id": "f9CP1FF-eMIv",
        "outputId": "d8bb4a3d-aa8e-4b87-c2ea-1bace44af518",
        "colab": {
          "base_uri": "https://localhost:8080/",
          "height": 35
        }
      },
      "source": [
        "loss_func = nn.CrossEntropyLoss()\n",
        "print(loss_func)"
      ],
      "execution_count": 0,
      "outputs": [
        {
          "output_type": "stream",
          "text": [
            "CrossEntropyLoss()\n"
          ],
          "name": "stdout"
        }
      ]
    },
    {
      "cell_type": "markdown",
      "metadata": {
        "colab_type": "text",
        "id": "rVIOQKxgmMW_"
      },
      "source": [
        "## Step4: Optimizerを定義する（最適化関数の定義）\n",
        "---\n",
        "今回はSGDを利用します。"
      ]
    },
    {
      "cell_type": "code",
      "metadata": {
        "colab_type": "code",
        "id": "rwpGl19heMIx",
        "colab": {}
      },
      "source": [
        "optimizer = optim.SGD(net.parameters(), lr=0.1)"
      ],
      "execution_count": 0,
      "outputs": []
    },
    {
      "cell_type": "markdown",
      "metadata": {
        "colab_type": "text",
        "id": "-T3G89__milv"
      },
      "source": [
        "## step5: 学習"
      ]
    },
    {
      "cell_type": "code",
      "metadata": {
        "colab_type": "code",
        "id": "Uce5fbffeMJB",
        "outputId": "e260eaa8-bb47-41a7-fe64-704c5c3ae7b0",
        "scrolled": false,
        "colab": {
          "base_uri": "https://localhost:8080/",
          "height": 1000
        }
      },
      "source": [
        "train_loss_track = []\n",
        "test_loss_track = []\n",
        "\n",
        "for epoc in range(5):\n",
        "    running_loss = 0\n",
        "    running_test_loss = 0\n",
        "    \n",
        "    # 学習モード\n",
        "    net.train()\n",
        "    for step, (xx, yy)  in enumerate(train_loader):\n",
        "        \n",
        "        # device = \"cuda\"の場合、GPUにデータを転送する\n",
        "        xx = xx.to(device)\n",
        "        yy = yy.to(device)\n",
        "        \n",
        "        # 最後に計算した各パラメーターの勾配を初期化する\n",
        "        optimizer.zero_grad()\n",
        "        \n",
        "        # フォワード計算を行う\n",
        "        y_pred = net(xx)\n",
        "        \n",
        "        # 誤差関数を使ってギャップの計測\n",
        "        loss = loss_func(y_pred, yy)\n",
        "        \n",
        "        # 誤差逆伝播法を使って自動微分\n",
        "        loss.backward()\n",
        "        \n",
        "        # パラメーターを更新\n",
        "        optimizer.step()\n",
        "        \n",
        "        # 学習データを使って損失を計算\n",
        "        running_loss += loss.item()\n",
        "        \n",
        "        if step % 100 == 0:\n",
        "            print('[{:d}, {:5d}] loss: {}'\n",
        "                    .format(epoc + 1, step + 1, running_loss / 100))\n",
        "            running_loss = 0.0\n",
        "        \n",
        "    # エポックが終了したら平均損失を計算\n",
        "    train_loss_track.append(running_loss / (step + 1))\n",
        "    \n",
        "    #評価（evaluation）モード\n",
        "    net.eval()\n",
        "    \n",
        "    with torch.no_grad():\n",
        "        for step, (xx_test, yy_test)  in enumerate(test_loader):\n",
        "\n",
        "            # device = \"cuda\"の場合、GPUにデータを転送する\n",
        "            xx_test = xx_test.to(device)\n",
        "            yy_test = yy_test.to(device)\n",
        "\n",
        "            # 予測値を計算\n",
        "            y_pred = net(xx_test)\n",
        "\n",
        "            # 誤差関数を使ってギャップの計測\n",
        "            test_loss = loss_func(y_pred, yy_test)\n",
        "            \n",
        "            # テストデータを使って損失を計算\n",
        "            running_test_loss += test_loss.item()\n",
        "\n",
        "        # 誤差をトラッキング\n",
        "        test_loss_track.append(running_test_loss / (step + 1))"
      ],
      "execution_count": 0,
      "outputs": [
        {
          "output_type": "stream",
          "text": [
            "[1,     1] loss: 0.023078961372375487\n",
            "[1,   101] loss: 1.7063932263851165\n",
            "[1,   201] loss: 0.6270678526163102\n",
            "[1,   301] loss: 0.3948813895881176\n",
            "[1,   401] loss: 0.2703474535793066\n",
            "[1,   501] loss: 0.21505189880728723\n",
            "[1,   601] loss: 0.18289224164560436\n",
            "[1,   701] loss: 0.1464472322165966\n",
            "[1,   801] loss: 0.1375581541657448\n",
            "[1,   901] loss: 0.13846805321052671\n",
            "[1,  1001] loss: 0.12787891276180743\n",
            "[1,  1101] loss: 0.12236772714182735\n",
            "[2,     1] loss: 0.0012328363209962844\n",
            "[2,   101] loss: 0.09928527669981121\n",
            "[2,   201] loss: 0.10185606588609517\n",
            "[2,   301] loss: 0.08928964375983924\n",
            "[2,   401] loss: 0.09309704643674195\n",
            "[2,   501] loss: 0.09688997599296272\n",
            "[2,   601] loss: 0.08359755221754313\n",
            "[2,   701] loss: 0.08108521135989577\n",
            "[2,   801] loss: 0.07640466066543013\n",
            "[2,   901] loss: 0.08519064812920987\n",
            "[2,  1001] loss: 0.07357281493488699\n",
            "[2,  1101] loss: 0.07348874610383063\n",
            "[3,     1] loss: 0.0002648603357374668\n",
            "[3,   101] loss: 0.06125904738437384\n",
            "[3,   201] loss: 0.07139898641267792\n",
            "[3,   301] loss: 0.0645625883503817\n",
            "[3,   401] loss: 0.07016864020610228\n",
            "[3,   501] loss: 0.06079543759813532\n",
            "[3,   601] loss: 0.0634805039037019\n",
            "[3,   701] loss: 0.0714111126959324\n",
            "[3,   801] loss: 0.0550777214881964\n",
            "[3,   901] loss: 0.07007975655142218\n",
            "[3,  1001] loss: 0.05669803849654272\n",
            "[3,  1101] loss: 0.05905535603640601\n",
            "[4,     1] loss: 0.0009340614080429078\n",
            "[4,   101] loss: 0.05065429755486548\n",
            "[4,   201] loss: 0.04532920087920502\n",
            "[4,   301] loss: 0.05784952642279677\n",
            "[4,   401] loss: 0.05196932655060664\n",
            "[4,   501] loss: 0.0482703507214319\n",
            "[4,   601] loss: 0.044179988979594784\n",
            "[4,   701] loss: 0.05368690637464169\n",
            "[4,   801] loss: 0.046808571016881614\n",
            "[4,   901] loss: 0.040856674377573655\n",
            "[4,  1001] loss: 0.05024204186629504\n",
            "[4,  1101] loss: 0.04636812876909971\n",
            "[5,     1] loss: 9.911165572702885e-05\n",
            "[5,   101] loss: 0.03515075746923685\n",
            "[5,   201] loss: 0.03846382956951857\n",
            "[5,   301] loss: 0.04312239938008133\n",
            "[5,   401] loss: 0.041348085057688874\n",
            "[5,   501] loss: 0.04134724417701364\n",
            "[5,   601] loss: 0.04301954567199573\n",
            "[5,   701] loss: 0.0360212311160285\n",
            "[5,   801] loss: 0.033897388317855076\n",
            "[5,   901] loss: 0.03001038419897668\n",
            "[5,  1001] loss: 0.04744714106549509\n",
            "[5,  1101] loss: 0.048172378453891725\n"
          ],
          "name": "stdout"
        }
      ]
    },
    {
      "cell_type": "markdown",
      "metadata": {
        "colab_type": "text",
        "id": "-bYkf-iNoMsV"
      },
      "source": [
        "## 交差エントロピー誤差の推移"
      ]
    },
    {
      "cell_type": "code",
      "metadata": {
        "colab_type": "code",
        "id": "LUyWOFR6eMJD",
        "outputId": "565f7911-cfee-408e-cfb8-3c1d688eaec5",
        "colab": {
          "base_uri": "https://localhost:8080/",
          "height": 283
        }
      },
      "source": [
        "plt.plot(train_loss_track)"
      ],
      "execution_count": 0,
      "outputs": [
        {
          "output_type": "execute_result",
          "data": {
            "text/plain": [
              "[<matplotlib.lines.Line2D at 0x7f6bfa0e0208>]"
            ]
          },
          "metadata": {
            "tags": []
          },
          "execution_count": 35
        },
        {
          "output_type": "display_data",
          "data": {
            "image/png": "[encoded data removed]",
            "text/plain": [
              "<Figure size 432x288 with 1 Axes>"
            ]
          },
          "metadata": {
            "tags": []
          }
        }
      ]
    },
    {
      "cell_type": "code",
      "metadata": {
        "colab_type": "code",
        "id": "wktiKQhOoXUq",
        "outputId": "069e698b-defc-45bd-b141-4b830d43ef24",
        "colab": {
          "base_uri": "https://localhost:8080/",
          "height": 283
        }
      },
      "source": [
        "plt.plot(test_loss_track)"
      ],
      "execution_count": 0,
      "outputs": [
        {
          "output_type": "execute_result",
          "data": {
            "text/plain": [
              "[<matplotlib.lines.Line2D at 0x7f6bf9882b00>]"
            ]
          },
          "metadata": {
            "tags": []
          },
          "execution_count": 36
        },
        {
          "output_type": "display_data",
          "data": {
            "image/png": "[encoded data removed]",
            "text/plain": [
              "<Figure size 432x288 with 1 Axes>"
            ]
          },
          "metadata": {
            "tags": []
          }
        }
      ]
    },
    {
      "cell_type": "markdown",
      "metadata": {
        "colab_type": "text",
        "id": "MN95e3-_oSx7"
      },
      "source": [
        "## testデータでAccuracyを計算"
      ]
    },
    {
      "cell_type": "code",
      "metadata": {
        "colab_type": "code",
        "id": "hKSM_g_6oSUB",
        "outputId": "b57e34d4-0fdc-4a0a-beec-adc82259751a",
        "colab": {
          "base_uri": "https://localhost:8080/",
          "height": 35
        }
      },
      "source": [
        "true = 0\n",
        "total = 0\n",
        "\n",
        "all_labels = np.array([])\n",
        "all_preds = np.array([])\n",
        "\n",
        "with torch.no_grad():\n",
        "    for test_xx, test_yy in test_loader:\n",
        "        \n",
        "        # device = \"cuda\"の場合、GPUにデータを転送する\n",
        "        test_xx = test_xx.to(device)\n",
        "        test_yy = test_yy.to(device)\n",
        "\n",
        "        outputs = net(test_xx)\n",
        "        _, predicted = torch.max(outputs.data, 1)\n",
        "        \n",
        "        all_labels = np.append(all_labels, test_yy.cpu().data.numpy())\n",
        "        all_preds = np.append(all_preds, predicted.cpu().numpy())\n",
        "        \n",
        "        total += test_yy.size(0)\n",
        "        true += (predicted == test_yy).sum().item()\n",
        "print('Accuracy: {:.2f} %'.format(100 * float(true/total)))"
      ],
      "execution_count": 0,
      "outputs": [
        {
          "output_type": "stream",
          "text": [
            "Accuracy: 99.07 %\n"
          ],
          "name": "stdout"
        }
      ]
    },
    {
      "cell_type": "markdown",
      "metadata": {
        "colab_type": "text",
        "id": "MxnZzHeSobei"
      },
      "source": [
        "## testデータで混同行列を作成"
      ]
    },
    {
      "cell_type": "code",
      "metadata": {
        "colab_type": "code",
        "id": "FMpfN1ALoddL",
        "outputId": "4a76e49f-66b8-44da-ac0d-1c460b2a9ba5",
        "colab": {
          "base_uri": "https://localhost:8080/",
          "height": 359
        }
      },
      "source": [
        "labels = np.unique(all_labels)\n",
        "cm = confusion_matrix(all_labels, all_preds, labels=labels)\n",
        "cm_labeled = pd.DataFrame(cm, columns=labels, index=labels)\n",
        "cm_labeled"
      ],
      "execution_count": 0,
      "outputs": [
        {
          "output_type": "execute_result",
          "data": {
            "text/html": [
              "<div>\n",
              "<style scoped>\n",
              "    .dataframe tbody tr th:only-of-type {\n",
              "        vertical-align: middle;\n",
              "    }\n",
              "\n",
              "    .dataframe tbody tr th {\n",
              "        vertical-align: top;\n",
              "    }\n",
              "\n",
              "    .dataframe thead th {\n",
              "        text-align: right;\n",
              "    }\n",
              "</style>\n",
              "<table border=\"1\" class=\"dataframe\">\n",
              "  <thead>\n",
              "    <tr style=\"text-align: right;\">\n",
              "      <th></th>\n",
              "      <th>0.0</th>\n",
              "      <th>1.0</th>\n",
              "      <th>2.0</th>\n",
              "      <th>3.0</th>\n",
              "      <th>4.0</th>\n",
              "      <th>5.0</th>\n",
              "      <th>6.0</th>\n",
              "      <th>7.0</th>\n",
              "      <th>8.0</th>\n",
              "      <th>9.0</th>\n",
              "    </tr>\n",
              "  </thead>\n",
              "  <tbody>\n",
              "    <tr>\n",
              "      <th>0.0</th>\n",
              "      <td>5895</td>\n",
              "      <td>0</td>\n",
              "      <td>1</td>\n",
              "      <td>0</td>\n",
              "      <td>3</td>\n",
              "      <td>5</td>\n",
              "      <td>11</td>\n",
              "      <td>0</td>\n",
              "      <td>2</td>\n",
              "      <td>6</td>\n",
              "    </tr>\n",
              "    <tr>\n",
              "      <th>1.0</th>\n",
              "      <td>1</td>\n",
              "      <td>6677</td>\n",
              "      <td>12</td>\n",
              "      <td>2</td>\n",
              "      <td>9</td>\n",
              "      <td>2</td>\n",
              "      <td>14</td>\n",
              "      <td>14</td>\n",
              "      <td>8</td>\n",
              "      <td>3</td>\n",
              "    </tr>\n",
              "    <tr>\n",
              "      <th>2.0</th>\n",
              "      <td>3</td>\n",
              "      <td>3</td>\n",
              "      <td>5921</td>\n",
              "      <td>5</td>\n",
              "      <td>4</td>\n",
              "      <td>0</td>\n",
              "      <td>2</td>\n",
              "      <td>2</td>\n",
              "      <td>17</td>\n",
              "      <td>1</td>\n",
              "    </tr>\n",
              "    <tr>\n",
              "      <th>3.0</th>\n",
              "      <td>0</td>\n",
              "      <td>0</td>\n",
              "      <td>15</td>\n",
              "      <td>6028</td>\n",
              "      <td>0</td>\n",
              "      <td>44</td>\n",
              "      <td>2</td>\n",
              "      <td>6</td>\n",
              "      <td>29</td>\n",
              "      <td>7</td>\n",
              "    </tr>\n",
              "    <tr>\n",
              "      <th>4.0</th>\n",
              "      <td>0</td>\n",
              "      <td>3</td>\n",
              "      <td>3</td>\n",
              "      <td>0</td>\n",
              "      <td>5803</td>\n",
              "      <td>0</td>\n",
              "      <td>7</td>\n",
              "      <td>1</td>\n",
              "      <td>4</td>\n",
              "      <td>21</td>\n",
              "    </tr>\n",
              "    <tr>\n",
              "      <th>5.0</th>\n",
              "      <td>2</td>\n",
              "      <td>0</td>\n",
              "      <td>0</td>\n",
              "      <td>2</td>\n",
              "      <td>0</td>\n",
              "      <td>5382</td>\n",
              "      <td>24</td>\n",
              "      <td>0</td>\n",
              "      <td>7</td>\n",
              "      <td>4</td>\n",
              "    </tr>\n",
              "    <tr>\n",
              "      <th>6.0</th>\n",
              "      <td>6</td>\n",
              "      <td>0</td>\n",
              "      <td>0</td>\n",
              "      <td>1</td>\n",
              "      <td>7</td>\n",
              "      <td>3</td>\n",
              "      <td>5898</td>\n",
              "      <td>0</td>\n",
              "      <td>1</td>\n",
              "      <td>2</td>\n",
              "    </tr>\n",
              "    <tr>\n",
              "      <th>7.0</th>\n",
              "      <td>3</td>\n",
              "      <td>4</td>\n",
              "      <td>38</td>\n",
              "      <td>1</td>\n",
              "      <td>18</td>\n",
              "      <td>1</td>\n",
              "      <td>0</td>\n",
              "      <td>6171</td>\n",
              "      <td>5</td>\n",
              "      <td>24</td>\n",
              "    </tr>\n",
              "    <tr>\n",
              "      <th>8.0</th>\n",
              "      <td>5</td>\n",
              "      <td>1</td>\n",
              "      <td>4</td>\n",
              "      <td>3</td>\n",
              "      <td>4</td>\n",
              "      <td>20</td>\n",
              "      <td>16</td>\n",
              "      <td>1</td>\n",
              "      <td>5785</td>\n",
              "      <td>12</td>\n",
              "    </tr>\n",
              "    <tr>\n",
              "      <th>9.0</th>\n",
              "      <td>5</td>\n",
              "      <td>2</td>\n",
              "      <td>0</td>\n",
              "      <td>2</td>\n",
              "      <td>23</td>\n",
              "      <td>10</td>\n",
              "      <td>0</td>\n",
              "      <td>10</td>\n",
              "      <td>17</td>\n",
              "      <td>5880</td>\n",
              "    </tr>\n",
              "  </tbody>\n",
              "</table>\n",
              "</div>"
            ],
            "text/plain": [
              "      0.0   1.0   2.0   3.0   4.0   5.0   6.0   7.0   8.0   9.0\n",
              "0.0  5895     0     1     0     3     5    11     0     2     6\n",
              "1.0     1  6677    12     2     9     2    14    14     8     3\n",
              "2.0     3     3  5921     5     4     0     2     2    17     1\n",
              "3.0     0     0    15  6028     0    44     2     6    29     7\n",
              "4.0     0     3     3     0  5803     0     7     1     4    21\n",
              "5.0     2     0     0     2     0  5382    24     0     7     4\n",
              "6.0     6     0     0     1     7     3  5898     0     1     2\n",
              "7.0     3     4    38     1    18     1     0  6171     5    24\n",
              "8.0     5     1     4     3     4    20    16     1  5785    12\n",
              "9.0     5     2     0     2    23    10     0    10    17  5880"
            ]
          },
          "metadata": {
            "tags": []
          },
          "execution_count": 38
        }
      ]
    },
    {
      "cell_type": "markdown",
      "metadata": {
        "id": "N_Nlcgtq4KZB",
        "colab_type": "text"
      },
      "source": [
        "## 【ご参考】その他レイヤー 活性化関数"
      ]
    },
    {
      "cell_type": "code",
      "metadata": {
        "id": "a2CZP1WF4KZC",
        "colab_type": "code",
        "outputId": "28977f5f-bfaa-438c-a5b7-5c694cc496b5",
        "colab": {
          "base_uri": "https://localhost:8080/",
          "height": 287
        }
      },
      "source": [
        "# nn.Sigmoid\n",
        "x = torch.linspace(-20, 20, 300, dtype=torch.float)\n",
        "ac = nn.Sigmoid()\n",
        "y = ac(x)\n",
        "plt.plot(x.numpy(), y.numpy(), label='')\n",
        "plt.ylim((-0.5, 1.5))"
      ],
      "execution_count": 0,
      "outputs": [
        {
          "output_type": "execute_result",
          "data": {
            "text/plain": [
              "(-0.5, 1.5)"
            ]
          },
          "metadata": {
            "tags": []
          },
          "execution_count": 39
        },
        {
          "output_type": "display_data",
          "data": {
            "image/png": "[encoded data removed]",
            "text/plain": [
              "<Figure size 432x288 with 1 Axes>"
            ]
          },
          "metadata": {
            "tags": []
          }
        }
      ]
    },
    {
      "cell_type": "code",
      "metadata": {
        "id": "mQ_kuRjW4KZH",
        "colab_type": "code",
        "outputId": "8ac2b4cd-0dea-4bcd-c3c1-fd87eaf672e0",
        "colab": {
          "base_uri": "https://localhost:8080/",
          "height": 287
        }
      },
      "source": [
        "# nn.Tanh\n",
        "x = torch.linspace(-5, 5, 200, dtype=torch.float)\n",
        "ac = nn.Tanh()\n",
        "y = ac(x)\n",
        "plt.plot(x.numpy(), y.numpy(), label='')\n",
        "plt.ylim((-1.5, 1.5 ))"
      ],
      "execution_count": 0,
      "outputs": [
        {
          "output_type": "execute_result",
          "data": {
            "text/plain": [
              "(-1.5, 1.5)"
            ]
          },
          "metadata": {
            "tags": []
          },
          "execution_count": 40
        },
        {
          "output_type": "display_data",
          "data": {
            "image/png": "[encoded data removed]",
            "text/plain": [
              "<Figure size 432x288 with 1 Axes>"
            ]
          },
          "metadata": {
            "tags": []
          }
        }
      ]
    },
    {
      "cell_type": "code",
      "metadata": {
        "id": "EnmkKVZO4KZL",
        "colab_type": "code",
        "outputId": "3737ac70-e911-4993-f44e-522b287c2bc3",
        "colab": {
          "base_uri": "https://localhost:8080/",
          "height": 283
        }
      },
      "source": [
        "# nn.LeakyReLU\n",
        "# Day3で紹介するGANで利用されます\n",
        "x = torch.linspace(-5, 5, 200, dtype=torch.float)\n",
        "ac = nn.LeakyReLU(0.1)\n",
        "y = ac(x)\n",
        "plt.plot(x.numpy(), y.numpy(), label='')\n",
        "plt.ylim((-5, 5))"
      ],
      "execution_count": 0,
      "outputs": [
        {
          "output_type": "execute_result",
          "data": {
            "text/plain": [
              "(-5, 5)"
            ]
          },
          "metadata": {
            "tags": []
          },
          "execution_count": 41
        },
        {
          "output_type": "display_data",
          "data": {
            "image/png": "[encoded data removed]",
            "text/plain": [
              "<Figure size 432x288 with 1 Axes>"
            ]
          },
          "metadata": {
            "tags": []
          }
        }
      ]
    },
    {
      "cell_type": "code",
      "metadata": {
        "id": "77Q2coM44KZP",
        "colab_type": "code",
        "colab": {}
      },
      "source": [
        ""
      ],
      "execution_count": 0,
      "outputs": []
    }
  ]
}