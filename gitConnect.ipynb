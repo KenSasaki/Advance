{
  "nbformat": 4,
  "nbformat_minor": 0,
  "metadata": {
    "colab": {
      "provenance": [],
      "authorship_tag": "ABX9TyMBTwzgXWvMz5u+NEicJp69",
      "include_colab_link": true
    },
    "kernelspec": {
      "name": "python3",
      "display_name": "Python 3"
    },
    "language_info": {
      "name": "python"
    }
  },
  "cells": [
    {
      "cell_type": "markdown",
      "metadata": {
        "id": "view-in-github",
        "colab_type": "text"
      },
      "source": [
        "<a href=\"https://colab.research.google.com/github/KenSasaki/Advance/blob/master/gitConnect.ipynb\" target=\"_parent\"><img src=\"https://colab.research.google.com/assets/colab-badge.svg\" alt=\"Open In Colab\"/></a>"
      ]
    },
    {
      "cell_type": "code",
      "execution_count": 5,
      "metadata": {
        "colab": {
          "base_uri": "https://localhost:8080/"
        },
        "id": "emwNGivX5S5k",
        "outputId": "3abcf017-2ba5-4f22-eb38-bd4185fba9c0"
      },
      "outputs": [
        {
          "output_type": "stream",
          "name": "stdout",
          "text": [
            "\u001b[0m\u001b[01;36mbin\u001b[0m@                        \u001b[01;34mdatalab\u001b[0m/  \u001b[01;36mlib\u001b[0m@     \u001b[01;34mmedia\u001b[0m/                    \u001b[01;34mproc\u001b[0m/        \u001b[01;36msbin\u001b[0m@  \u001b[01;34mtools\u001b[0m/\n",
            "\u001b[01;34mboot\u001b[0m/                       \u001b[01;34mdev\u001b[0m/      \u001b[01;36mlib32\u001b[0m@   \u001b[01;34mmnt\u001b[0m/                      \u001b[01;34mpython-apt\u001b[0m/  \u001b[01;34msrv\u001b[0m/   \u001b[01;34musr\u001b[0m/\n",
            "\u001b[01;34mcontent\u001b[0m/                    \u001b[01;34metc\u001b[0m/      \u001b[01;36mlib64\u001b[0m@   NGC-DL-CONTAINER-LICENSE  \u001b[01;34mroot\u001b[0m/        \u001b[01;34msys\u001b[0m/   \u001b[01;34mvar\u001b[0m/\n",
            "cuda-keyring_1.0-1_all.deb  \u001b[01;34mhome\u001b[0m/     \u001b[01;36mlibx32\u001b[0m@  \u001b[01;34mopt\u001b[0m/                      \u001b[01;34mrun\u001b[0m/         \u001b[30;42mtmp\u001b[0m/\n"
          ]
        }
      ],
      "source": [
        "ls\n"
      ]
    },
    {
      "cell_type": "code",
      "source": [
        "cd\n",
        "\n",
        "!git clone git@github.com:ohmsha/PyOptBook.git"
      ],
      "metadata": {
        "colab": {
          "base_uri": "https://localhost:8080/",
          "height": 215
        },
        "id": "pXe2FjyK5h9_",
        "outputId": "8e5440ea-548a-4e96-8d4a-bea700c3e574"
      },
      "execution_count": 6,
      "outputs": [
        {
          "output_type": "error",
          "ename": "NameError",
          "evalue": "ignored",
          "traceback": [
            "\u001b[0;31m---------------------------------------------------------------------------\u001b[0m",
            "\u001b[0;31mNameError\u001b[0m                                 Traceback (most recent call last)",
            "\u001b[0;32m<ipython-input-6-891b00096c74>\u001b[0m in \u001b[0;36m<cell line: 1>\u001b[0;34m()\u001b[0m\n\u001b[0;32m----> 1\u001b[0;31m \u001b[0mcd\u001b[0m\u001b[0;34m\u001b[0m\u001b[0;34m\u001b[0m\u001b[0m\n\u001b[0m\u001b[1;32m      2\u001b[0m \u001b[0;34m\u001b[0m\u001b[0m\n\u001b[1;32m      3\u001b[0m \u001b[0mget_ipython\u001b[0m\u001b[0;34m(\u001b[0m\u001b[0;34m)\u001b[0m\u001b[0;34m.\u001b[0m\u001b[0msystem\u001b[0m\u001b[0;34m(\u001b[0m\u001b[0;34m'git clone git@github.com:ohmsha/PyOptBook.git'\u001b[0m\u001b[0;34m)\u001b[0m\u001b[0;34m\u001b[0m\u001b[0;34m\u001b[0m\u001b[0m\n",
            "\u001b[0;31mNameError\u001b[0m: name 'cd' is not defined"
          ]
        }
      ]
    },
    {
      "cell_type": "markdown",
      "source": [],
      "metadata": {
        "id": "iCtCyO6y6ClQ"
      }
    }
  ]
}